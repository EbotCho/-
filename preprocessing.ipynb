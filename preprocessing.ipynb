{
 "cells": [
  {
   "cell_type": "code",
   "execution_count": 1,
   "metadata": {},
   "outputs": [],
   "source": [
    "# Library import\n",
    "\n",
    "import chardet # 인코딩\n",
    "import pandas as pd\n",
    "import numpy\n",
    "import seaborn as sns\n",
    "import matplotlib.pyplot as plt"
   ]
  },
  {
   "cell_type": "code",
   "execution_count": 2,
   "metadata": {},
   "outputs": [],
   "source": [
    "# Feature Info\n",
    "def tip():\n",
    "    print(''' \n",
    "    c_num: 기상청 동네예보 격자넘버,\n",
    "    e_tm: 날짜 시간포함 단위 (0~23시),\n",
    "    e_hh24: 시간, 단위(1 ~ 24시),\n",
    "    e_weekday: 요일을 숫자형식으로 표시 월요일(0)~일요일(6),\n",
    "    e_week_name: 주중 주말을 숫자형식으로 표시 주중(0), 주말(1),\n",
    "    c_stn: AWS 지점 번호,\n",
    "    c_nph_ta: 기온 단위(섭씨),\n",
    "    c_nph_hm: 상대습도 단위(%),\n",
    "    c_nph_ws_10m: 10분 평균 분속 단위(m/s),\n",
    "    c_nph_rn_60m: 1시간 누적 강수량 단위(mm),\n",
    "    c_nph_ta_chi: 체감온도 단위(섭씨)\n",
    "    ''')"
   ]
  },
  {
   "cell_type": "code",
   "execution_count": 3,
   "metadata": {},
   "outputs": [
    {
     "name": "stdout",
     "output_type": "stream",
     "text": [
      " \n",
      "    c_num: 기상청 동네예보 격자넘버,\n",
      "    e_tm: 날짜 시간포함 단위 (0~23시),\n",
      "    e_hh24: 시간, 단위(1 ~ 24시),\n",
      "    e_weekday: 요일을 숫자형식으로 표시 월요일(0)~일요일(6),\n",
      "    e_week_name: 주중 주말을 숫자형식으로 표시 주중(0), 주말(1),\n",
      "    c_stn: AWS 지점 번호,\n",
      "    c_nph_ta: 기온 단위(섭씨),\n",
      "    c_nph_hm: 상대습도 단위(%),\n",
      "    c_nph_ws_10m: 10분 평균 분속 단위(m/s),\n",
      "    c_nph_rn_60m: 1시간 누적 강수량 단위(mm),\n",
      "    c_nph_ta_chi: 체감온도 단위(섭씨)\n",
      "    \n"
     ]
    }
   ],
   "source": [
    "tip()"
   ]
  },
  {
   "cell_type": "code",
   "execution_count": 4,
   "metadata": {},
   "outputs": [],
   "source": [
    "# Set Path\n",
    "\n",
    "# Train dataset\n",
    "data_2020_01 = \"/Users/ebot/github/proj_shootingstar/t_train/2020_data_01.xlsx\"\n",
    "data_2020_02 = \"/Users/ebot/github/proj_shootingstar/t_train/2020_data_02.xlsx\"\n",
    "\n",
    "df_data_2020_01 = pd.read_excel(data_2020_01)\n",
    "df_data_2020_02 = pd.read_excel(data_2020_02)\n",
    "\n",
    "# Train data concat\n",
    "row_df_train = pd.concat([df_data_2020_01, df_data_2020_02], ignore_index=True)\n",
    "\n",
    "# Test dataset\n",
    "data_2020_03 = \"/Users/ebot/github/proj_shootingstar/t_train/2020_data_03.xlsx\"\n",
    "row_df_test = pd.read_excel(data_2020_03)\n",
    "\n",
    "\n",
    "\n",
    "\n",
    "\n"
   ]
  },
  {
   "cell_type": "code",
   "execution_count": 5,
   "metadata": {},
   "outputs": [
    {
     "data": {
      "text/plain": [
       "Index(['Unnamed: 0', 'c_num', 'e_tm', 'e_hh24', 'e_n', 'c_stn', 'e_sum_qctr',\n",
       "       'e_sum_load', 'e_n_mean_load', 'c_nph_ta', 'c_nph_hm', 'c_nph_ws_10m',\n",
       "       'c_nph_rn_60m', 'c_nph_ta_chi', 'e_weekday', 'e_week_name', 'e_elec'],\n",
       "      dtype='object')"
      ]
     },
     "execution_count": 5,
     "metadata": {},
     "output_type": "execute_result"
    }
   ],
   "source": [
    "row_df_train.columns"
   ]
  },
  {
   "cell_type": "code",
   "execution_count": 6,
   "metadata": {},
   "outputs": [
    {
     "name": "stdout",
     "output_type": "stream",
     "text": [
      "Shape of train: (58999, 17)\n",
      "Shape of test: (30504, 17)\n"
     ]
    }
   ],
   "source": [
    "# Check the number of columns\n",
    "\n",
    "print(f\"Shape of train:\", row_df_train.shape)\n",
    "print(f\"Shape of test:\", row_df_test.shape)"
   ]
  },
  {
   "cell_type": "code",
   "execution_count": 7,
   "metadata": {},
   "outputs": [],
   "source": [
    "# 데이터 copy\n",
    "df_train = row_df_train.copy()\n",
    "df_test = row_df_test.copy()\n",
    "\n"
   ]
  },
  {
   "cell_type": "code",
   "execution_count": 8,
   "metadata": {},
   "outputs": [],
   "source": [
    "# e_tm(날짜) datetime으로 변환\n",
    "\n",
    "df_train[\"e_tm\"] = pd.to_datetime(df_train['e_tm'])\n",
    "df_test[\"e_tm\"] = pd.to_datetime(df_test['e_tm'])\n",
    "\n",
    "# tm 데이터 스플릿\n",
    "\n",
    "df_train['year'] = df_train['e_tm'].dt.year\n",
    "df_train['month'] = df_train['e_tm'].dt.month\n",
    "df_train['day'] = df_train['e_tm'].dt.day\n",
    "df_train['hour'] = df_train['e_tm'].dt.hour\n",
    "\n",
    "\n",
    "df_test['year'] = df_test['e_tm'].dt.year\n",
    "df_test['month'] = df_test['e_tm'].dt.month\n",
    "df_test['day'] = df_test['e_tm'].dt.day\n",
    "df_test['hour'] = df_test['e_tm'].dt.hour\n",
    "\n",
    "df_train = df_train.drop(columns=['e_tm'])\n",
    "df_test = df_test.drop(columns=['e_tm'])\n"
   ]
  },
  {
   "cell_type": "code",
   "execution_count": 9,
   "metadata": {},
   "outputs": [],
   "source": [
    "# df_train.reset_index(inplace=True)"
   ]
  },
  {
   "cell_type": "code",
   "execution_count": 10,
   "metadata": {},
   "outputs": [
    {
     "name": "stdout",
     "output_type": "stream",
     "text": [
      " \n",
      "    c_num: 기상청 동네예보 격자넘버,\n",
      "    e_tm: 날짜 시간포함 단위 (0~23시),\n",
      "    e_hh24: 시간, 단위(1 ~ 24시),\n",
      "    e_weekday: 요일을 숫자형식으로 표시 월요일(0)~일요일(6),\n",
      "    e_week_name: 주중 주말을 숫자형식으로 표시 주중(0), 주말(1),\n",
      "    c_stn: AWS 지점 번호,\n",
      "    c_nph_ta: 기온 단위(섭씨),\n",
      "    c_nph_hm: 상대습도 단위(%),\n",
      "    c_nph_ws_10m: 10분 평균 분속 단위(m/s),\n",
      "    c_nph_rn_60m: 1시간 누적 강수량 단위(mm),\n",
      "    c_nph_ta_chi: 체감온도 단위(섭씨)\n",
      "    \n"
     ]
    }
   ],
   "source": [
    "tip()"
   ]
  },
  {
   "cell_type": "code",
   "execution_count": 11,
   "metadata": {},
   "outputs": [],
   "source": [
    "# train_data  c_num, c_stn 원 핫 인코딩\n",
    "\n",
    "c_num_train = pd.get_dummies(df_train['c_num'], prefix='c_num')\n",
    "c_stn_train = pd.get_dummies(df_train['c_stn'], prefix='c_stn')\n",
    "\n",
    "# test_data  c_num, c_stn 원 핫 인코딩\n",
    "\n",
    "c_num_test = pd.get_dummies(df_train['c_num'], prefix='c_num')\n",
    "c_stn_test = pd.get_dummies(df_train['c_stn'], prefix='c_stn')\n",
    "\n",
    "\n"
   ]
  },
  {
   "cell_type": "code",
   "execution_count": 12,
   "metadata": {},
   "outputs": [
    {
     "name": "stdout",
     "output_type": "stream",
     "text": [
      "['Unnamed: 0', 'c_num', 'e_hh24', 'e_n', 'c_stn', 'e_sum_qctr', 'e_sum_load', 'e_n_mean_load', 'c_nph_ta', 'c_nph_hm', 'c_nph_ws_10m', 'c_nph_rn_60m', 'c_nph_ta_chi', 'e_weekday', 'e_week_name', 'e_elec', 'year', 'month', 'day', 'hour']\n"
     ]
    }
   ],
   "source": [
    "pd.set_option('display.max_columns', None)\n",
    "\n",
    "columns_list = df_train.columns.tolist()\n",
    "print(columns_list)"
   ]
  },
  {
   "cell_type": "code",
   "execution_count": 13,
   "metadata": {},
   "outputs": [],
   "source": [
    "df_train = df_train.drop(columns=['c_num','c_stn','e_sum_qctr', 'e_n', 'e_sum_load', 'e_n_mean_load','e_hh24', 'Unnamed: 0'])\n",
    "df_test = df_test.drop(columns=['c_num','c_stn','e_sum_qctr', 'e_n', 'e_sum_load', 'e_n_mean_load','e_hh24', 'Unnamed: 0'])"
   ]
  },
  {
   "cell_type": "code",
   "execution_count": 14,
   "metadata": {},
   "outputs": [],
   "source": [
    "from sklearn.preprocessing import MinMaxScaler\n",
    "\n",
    "\n",
    "# MinMaxScaler 선언 및 Fitting\n",
    "Scaler = MinMaxScaler()\n",
    "\n",
    "# 데이터 변환\n",
    "scaled_df_1 = Scaler.fit_transform(df_train)\n",
    "scaled_df_2 = Scaler.fit_transform(df_test)\n",
    "\n",
    "# 데이터 프레임으로 저장\n",
    "scaled_df_train = pd.DataFrame(scaled_df_1, columns = df_train.columns)\n",
    "scaled_df_test = pd.DataFrame(scaled_df_2, columns = df_test.columns)\n",
    "\n",
    "# 원 핫 인코딩 된 컬럼을 train에 합치기\n",
    "df_train = pd.concat([scaled_df_train,c_num_train,c_stn_train], axis=1)\n",
    "\n",
    "# 원 핫 인코딩 된 컬럼을 test에 합치기\n",
    "df_test = pd.concat([scaled_df_test,c_num_test,c_stn_test], axis=1)\n",
    "\n",
    "# 열 이름을 문자열로 변환\n",
    "df_train.columns = df_train.columns.astype(str)\n",
    "df_test.columns = df_test.columns.astype(str)\n",
    "\n",
    "\n"
   ]
  },
  {
   "cell_type": "code",
   "execution_count": 15,
   "metadata": {},
   "outputs": [],
   "source": [
    "# feature와 label 나누기\n",
    "df_x_train = df_train.drop(columns=['e_elec'])\n",
    "df_y_train = df_train['e_elec']\n",
    "df_x_test = df_test.drop(columns=['e_elec'])\n",
    "df_y_test = df_test['e_elec']\n",
    "\n"
   ]
  },
  {
   "cell_type": "code",
   "execution_count": 16,
   "metadata": {},
   "outputs": [
    {
     "name": "stdout",
     "output_type": "stream",
     "text": [
      "(58999,)\n",
      "(58999, 78)\n"
     ]
    }
   ],
   "source": [
    "print(df_y_train.shape)\n",
    "print(df_x_train.shape)"
   ]
  }
 ],
 "metadata": {
  "kernelspec": {
   "display_name": "py_project",
   "language": "python",
   "name": "python3"
  },
  "language_info": {
   "codemirror_mode": {
    "name": "ipython",
    "version": 3
   },
   "file_extension": ".py",
   "mimetype": "text/x-python",
   "name": "python",
   "nbconvert_exporter": "python",
   "pygments_lexer": "ipython3",
   "version": "3.10.6"
  }
 },
 "nbformat": 4,
 "nbformat_minor": 2
}
