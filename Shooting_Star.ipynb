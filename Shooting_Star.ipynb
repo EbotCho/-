{
  "nbformat": 4,
  "nbformat_minor": 0,
  "metadata": {
    "colab": {
      "provenance": []
    },
    "kernelspec": {
      "name": "python3",
      "display_name": "Python 3"
    },
    "language_info": {
      "name": "python"
    }
  },
  "cells": [
    {
      "cell_type": "markdown",
      "source": [
        "## 필요 library import"
      ],
      "metadata": {
        "id": "1-9ECQl4W1g9"
      }
    },
    {
      "cell_type": "code",
      "execution_count": null,
      "metadata": {
        "id": "oymt_B0d-rmo"
      },
      "outputs": [],
      "source": [
        "import pandas as pd\n",
        "import numpy as np\n",
        "import seaborn as sns\n",
        "import matplotlib.pyplot as plt\n",
        "from sklearn.decomposition import PCA\n",
        "from sklearn.preprocessing import StandardScaler\n",
        "from sklearn.preprocessing import MinMaxScaler"
      ]
    },
    {
      "cell_type": "code",
      "source": [
        "from google.colab import drive\n",
        "drive.mount('/content/drive')"
      ],
      "metadata": {
        "colab": {
          "base_uri": "https://localhost:8080/"
        },
        "id": "5pLZ6mXg-xXv",
        "outputId": "53ee47fb-fb54-4472-e32b-63089a04a9c5"
      },
      "execution_count": null,
      "outputs": [
        {
          "output_type": "stream",
          "name": "stdout",
          "text": [
            "Mounted at /content/drive\n"
          ]
        }
      ]
    },
    {
      "cell_type": "markdown",
      "source": [
        "## dataset load"
      ],
      "metadata": {
        "id": "UhlHGCopW8_F"
      }
    },
    {
      "cell_type": "code",
      "source": [
        "# Data load\n",
        "tmp1 = pd.read_csv(\"/content/drive/MyDrive/기상에따른_전력수요예측/electric_train.csv\",\n",
        "                   encoding = \"latin1\")\n",
        "tmp2 = pd.read_csv(\"/content/drive/MyDrive/기상에따른_전력수요예측/electric_test.csv\",\n",
        "                   encoding = \"latin1\")\n"
      ],
      "metadata": {
        "id": "2F9nHGKtFoQf"
      },
      "execution_count": null,
      "outputs": []
    },
    {
      "cell_type": "code",
      "source": [
        "tmp1.shape"
      ],
      "metadata": {
        "colab": {
          "base_uri": "https://localhost:8080/"
        },
        "id": "txxyUZiYQRMs",
        "outputId": "c171d5b1-ee0a-4dc4-80e1-db79285a74b4"
      },
      "execution_count": null,
      "outputs": [
        {
          "output_type": "execute_result",
          "data": {
            "text/plain": [
              "(1048575, 17)"
            ]
          },
          "metadata": {},
          "execution_count": 31
        }
      ]
    },
    {
      "cell_type": "code",
      "source": [
        "# copy\n",
        "df_train = tmp1.copy()\n",
        "df_test = tmp2.copy()"
      ],
      "metadata": {
        "id": "vc_mFQtM-xx7"
      },
      "execution_count": null,
      "outputs": []
    },
    {
      "cell_type": "markdown",
      "source": [
        "## 전처리 전 dataset 수정"
      ],
      "metadata": {
        "id": "ZXXJSgwnXBef"
      }
    },
    {
      "cell_type": "code",
      "source": [
        "# train data filter\n",
        "\n",
        "df_train.drop([\"e_n\", \"e_sum_qctr\", \"e_sum_load\", \"e_n_mean_load\", \"Unnamed: 0\",\n",
        "               \"e_hh24\"], axis = 1, inplace = True)\n",
        "df_test.drop([\"Unnamed: 0\", \"e_hh24\"], axis = 1, inplace = True)\n",
        "\n",
        "# df_train[\"e_tm\"] 데이터 타입을 datetime으로 변환\n",
        "\n",
        "df_train[\"e_tm\"] = pd.to_datetime(df_train[\"e_tm\"])\n",
        "df_test[\"e_tm\"] = pd.to_datetime(df_test[\"e_tm\"])"
      ],
      "metadata": {
        "id": "llOVlu8mIQ_l"
      },
      "execution_count": null,
      "outputs": []
    },
    {
      "cell_type": "code",
      "source": [
        "print(df_train.shape)\n",
        "print(df_test.shape)"
      ],
      "metadata": {
        "colab": {
          "base_uri": "https://localhost:8080/"
        },
        "id": "9og47YCBJ3rW",
        "outputId": "59fa628d-39c1-44d8-c563-d66aaa0c04df"
      },
      "execution_count": null,
      "outputs": [
        {
          "output_type": "stream",
          "name": "stdout",
          "text": [
            "(1048575, 11)\n",
            "(1048575, 10)\n"
          ]
        }
      ]
    },
    {
      "cell_type": "code",
      "source": [
        "# 3년 데이터 있는 c_num 추출\n",
        "# list안에 c_num별로 column을 나누어 저장\n",
        "lst = df_train[\"c_num\"].unique() # train data의 모든 'c_num'값을 lst에 넣음\n",
        "\n",
        "c_num_lst = [] # 빈 리스트 생성\n",
        "for i in lst:\n",
        "    df_temp = df_train[df_train[\"c_num\"] == i ] # 각 'c_num'별로 데이터프레임 생성 후\n",
        "    c_num_lst.append(df_temp)  # 빈 리스트에 저장\n",
        "\n",
        "len(c_num_lst) # 'c_num'의 고유값 총 48개\n",
        "\n",
        "# shape이 (26304, 11)=3개년인 데이터프레임들만 선택하여 합치기\n",
        "selected_indices = []\n",
        "selected_dfs = []\n",
        "for i, df in enumerate(c_num_lst):\n",
        "    if df.shape == (26304, 11):\n",
        "        selected_indices.append(i)\n",
        "        selected_dfs.append(df)\n",
        "\n",
        "# 선택된 데이터프레임들을 하나로 합치기\n",
        "dfs = pd.concat(selected_dfs, ignore_index=True)\n",
        "\n",
        "# 선택된 인덱스와 합쳐진 데이터프레임 출력\n",
        "print(\"Selected indices:\", selected_indices)\n",
        "print(dfs)\n",
        "print(len(selected_dfs))"
      ],
      "metadata": {
        "id": "xXyx05-5Je8_",
        "colab": {
          "base_uri": "https://localhost:8080/"
        },
        "outputId": "cd0ac30d-7513-4bb9-c2d0-75444c4b2147"
      },
      "execution_count": null,
      "outputs": [
        {
          "output_type": "stream",
          "name": "stdout",
          "text": [
            "Selected indices: [1, 2, 7, 8, 10, 11, 12, 15, 16, 18, 19, 20, 23, 24, 25, 26, 27, 28, 29, 30, 31, 32, 33, 34, 37, 38, 39, 41, 42, 43, 44, 46]\n",
            "        c_num                e_tm  c_stn  c_nph_ta  c_nph_hm  c_nph_ws_10m  \\\n",
            "0        5565 2020-01-01 01:00:00    184       2.3      65.8           1.7   \n",
            "1        5565 2020-01-01 02:00:00    184       2.5      69.7           1.8   \n",
            "2        5565 2020-01-01 03:00:00    184       2.8      69.5           2.3   \n",
            "3        5565 2020-01-01 04:00:00    184       2.8      66.0           1.6   \n",
            "4        5565 2020-01-01 05:00:00    184       3.0      66.1           1.6   \n",
            "...       ...                 ...    ...       ...       ...           ...   \n",
            "841723  11122 2022-12-31 20:00:00    904       6.7      57.4           0.7   \n",
            "841724  11122 2022-12-31 21:00:00    904       5.8      57.3           0.2   \n",
            "841725  11122 2022-12-31 22:00:00    904       6.4      57.6           1.3   \n",
            "841726  11122 2022-12-31 23:00:00    904       6.7      58.1           1.2   \n",
            "841727  11122 2023-01-01 00:00:00    904       6.3      56.9           1.5   \n",
            "\n",
            "        c_nph_rn_60m  c_nph_ta_chi  e_weekday  e_week_name  e_elec  \n",
            "0                0.0          -0.3          2            0   96.58  \n",
            "1                0.0          -0.2          2            0   88.63  \n",
            "2                0.0          -0.2          2            0   80.50  \n",
            "3                0.0           0.5          2            0   75.31  \n",
            "4                0.0           0.5          2            0   73.68  \n",
            "...              ...           ...        ...          ...     ...  \n",
            "841723           0.0           1.8          5            1  120.84  \n",
            "841724           0.0          -1.0          5            1  121.62  \n",
            "841725           0.0          -1.0          5            1  123.99  \n",
            "841726           0.0           0.3          5            1  121.86  \n",
            "841727           0.0          -0.4          6            1  115.40  \n",
            "\n",
            "[841728 rows x 11 columns]\n",
            "32\n"
          ]
        }
      ]
    },
    {
      "cell_type": "code",
      "source": [
        "# DataFrame의 각 컬럼에서 고유값을 가져와 set으로 변환한 후 교집합을 구함\n",
        "c_stn_elements = list(set(dfs[\"c_stn\"].unique()) & set(df_test[\"c_stn\"].unique()))\n",
        "# [165, 774, 710, 783, 722, 788, 184, 156]이 나오지만 184=제주도라 제외\n",
        "c_stn_elements = [165, 774, 710, 783, 722, 788, 156]"
      ],
      "metadata": {
        "id": "pt7GVWjbObRS"
      },
      "execution_count": null,
      "outputs": []
    },
    {
      "cell_type": "code",
      "source": [
        "c_stn_elements"
      ],
      "metadata": {
        "colab": {
          "base_uri": "https://localhost:8080/"
        },
        "id": "dDQX4NbGLU4-",
        "outputId": "9ecf63ce-e10c-4195-c2a8-983edc6a283c"
      },
      "execution_count": null,
      "outputs": [
        {
          "output_type": "execute_result",
          "data": {
            "text/plain": [
              "[165, 774, 710, 783, 722, 788, 156]"
            ]
          },
          "metadata": {},
          "execution_count": 15
        }
      ]
    },
    {
      "cell_type": "code",
      "source": [
        "real_lst = []"
      ],
      "metadata": {
        "id": "MON9zYQpSYgP"
      },
      "execution_count": null,
      "outputs": []
    },
    {
      "cell_type": "code",
      "source": [
        "for i in c_stn_elements:\n",
        "    var = i\n",
        "\n",
        "    filtered_data_train = dfs[dfs['c_stn'] == var]\n",
        "\n",
        "    # 필터링된 데이터에서 'c_num' 컬럼 값 출력\n",
        "    c_num_values = filtered_data_train['c_num'].values\n",
        "\n",
        "    filtered_data_test = df_test[df_test['c_stn'] == var]\n",
        "\n",
        "    # 필터링된 데이터에서 'c_num' 컬럼 값 출력\n",
        "    c_num_values2 = filtered_data_test['c_num'].values\n",
        "\n",
        "    real_elements = list(set(c_num_values) & set(c_num_values2))\n",
        "\n",
        "    print(real_elements)\n",
        "#real_elements에서 해당하는 c_num값 real_lst에 넣기\n",
        "real_lst = [9884, 9736, 9885, 10487, 11083, 11084, 10937, 10936, 11085]\n",
        "\n",
        "    # 26304 * 10 26만개\n",
        "    # 8760 * 10 8만7천"
      ],
      "metadata": {
        "colab": {
          "base_uri": "https://localhost:8080/"
        },
        "id": "uWHDDcQ-Q5bl",
        "outputId": "8771f437-1f62-4bb3-a9b4-987f3dcaf021"
      },
      "execution_count": null,
      "outputs": [
        {
          "output_type": "stream",
          "name": "stdout",
          "text": [
            "[9884]\n",
            "[9736, 9885]\n",
            "[10487]\n",
            "[11083, 11084]\n",
            "[10937]\n",
            "[10936]\n",
            "[11085]\n"
          ]
        }
      ]
    },
    {
      "cell_type": "code",
      "source": [
        "real_lst"
      ],
      "metadata": {
        "colab": {
          "base_uri": "https://localhost:8080/"
        },
        "id": "SrNEyBUn09rF",
        "outputId": "a49a2ff3-20ea-47e2-c552-73bc4b41fbbb"
      },
      "execution_count": null,
      "outputs": [
        {
          "output_type": "execute_result",
          "data": {
            "text/plain": [
              "[9884, 9736, 9885, 10487, 11083, 11084, 10937, 10936, 11085]"
            ]
          },
          "metadata": {},
          "execution_count": 17
        }
      ]
    },
    {
      "cell_type": "code",
      "source": [
        "# 'c_stn'이 선택한 값들에 해당하는 행들 추출\n",
        "fin_train = dfs[dfs['c_num'].isin(real_lst)]\n",
        "fin_test = df_test[df_test['c_num'].isin(real_lst)]"
      ],
      "metadata": {
        "id": "bE3Nu2rCSbSn"
      },
      "execution_count": null,
      "outputs": []
    },
    {
      "cell_type": "code",
      "source": [
        "fin_train.shape"
      ],
      "metadata": {
        "colab": {
          "base_uri": "https://localhost:8080/"
        },
        "id": "85CRFrdYTjIJ",
        "outputId": "af7ef166-cbf4-4f6d-ccc3-c525f723cc57"
      },
      "execution_count": null,
      "outputs": [
        {
          "output_type": "execute_result",
          "data": {
            "text/plain": [
              "(236736, 11)"
            ]
          },
          "metadata": {},
          "execution_count": 19
        }
      ]
    },
    {
      "cell_type": "code",
      "source": [
        "fin_test.shape"
      ],
      "metadata": {
        "colab": {
          "base_uri": "https://localhost:8080/"
        },
        "id": "tNTlXFT5Uwb1",
        "outputId": "c393af59-e8bc-48b9-d688-e7905887e3e1"
      },
      "execution_count": null,
      "outputs": [
        {
          "output_type": "execute_result",
          "data": {
            "text/plain": [
              "(78840, 10)"
            ]
          },
          "metadata": {},
          "execution_count": 20
        }
      ]
    },
    {
      "cell_type": "markdown",
      "source": [
        "## 이상치 처리"
      ],
      "metadata": {
        "id": "p2QFICPxXIkc"
      }
    },
    {
      "cell_type": "code",
      "source": [
        "# PCA를 적용할 컬럼 선택\n",
        "columns_to_pca = ['c_nph_ta_chi', 'c_nph_ta']\n",
        "\n",
        "# 데이터 표준화\n",
        "scaler = StandardScaler()\n",
        "X_scaled = scaler.fit_transform(fin_train[columns_to_pca])\n",
        "y_scaled = scaler.fit_transform(fin_test[columns_to_pca])\n",
        "\n",
        "# PCA 적용\n",
        "pca = PCA(n_components=1)  # 1개의 주성분으로 축소\n",
        "X_pca = pca.fit_transform(X_scaled)\n",
        "y_pca = pca.fit_transform(y_scaled)\n",
        "\n",
        "# 새로운 컬럼을 데이터프레임에 추가\n",
        "fin_train['pca_feature'] = X_pca\n",
        "fin_test['pca_feature'] = y_pca"
      ],
      "metadata": {
        "colab": {
          "base_uri": "https://localhost:8080/"
        },
        "id": "P8tdCQKsZkV7",
        "outputId": "af258e35-423d-4782-890b-208a19a949cf"
      },
      "execution_count": null,
      "outputs": [
        {
          "output_type": "stream",
          "name": "stderr",
          "text": [
            "<ipython-input-21-32c3ed85fa57>:15: SettingWithCopyWarning: \n",
            "A value is trying to be set on a copy of a slice from a DataFrame.\n",
            "Try using .loc[row_indexer,col_indexer] = value instead\n",
            "\n",
            "See the caveats in the documentation: https://pandas.pydata.org/pandas-docs/stable/user_guide/indexing.html#returning-a-view-versus-a-copy\n",
            "  fin_train['pca_feature'] = X_pca\n",
            "<ipython-input-21-32c3ed85fa57>:16: SettingWithCopyWarning: \n",
            "A value is trying to be set on a copy of a slice from a DataFrame.\n",
            "Try using .loc[row_indexer,col_indexer] = value instead\n",
            "\n",
            "See the caveats in the documentation: https://pandas.pydata.org/pandas-docs/stable/user_guide/indexing.html#returning-a-view-versus-a-copy\n",
            "  fin_test['pca_feature'] = y_pca\n"
          ]
        }
      ]
    },
    {
      "cell_type": "code",
      "source": [
        "print(fin_train.shape)\n",
        "print(fin_test.shape)"
      ],
      "metadata": {
        "colab": {
          "base_uri": "https://localhost:8080/"
        },
        "id": "32JJYi42Zvck",
        "outputId": "f5210ecc-45ec-416c-fe6d-a52d3998d5c4"
      },
      "execution_count": null,
      "outputs": [
        {
          "output_type": "stream",
          "name": "stdout",
          "text": [
            "(236736, 12)\n",
            "(78840, 11)\n"
          ]
        }
      ]
    },
    {
      "cell_type": "code",
      "source": [
        "#기온, 체감온도의 상관관계 0.96->거의 동일한 값을 가진다로 판단됨으로 pca활용 새로운 컬럼으로 대체 후 기존 기온, 체감온도 컬럼 삭제\n",
        "fin_train.drop(['c_nph_ta_chi', 'c_nph_ta'], axis=1, inplace=True)\n",
        "fin_test.drop(['c_nph_ta_chi', 'c_nph_ta'], axis=1, inplace=True)"
      ],
      "metadata": {
        "colab": {
          "base_uri": "https://localhost:8080/"
        },
        "id": "WhEuh77OZxCG",
        "outputId": "f8ac8e52-44b9-4b2d-b51a-7cb66a39fcfc"
      },
      "execution_count": null,
      "outputs": [
        {
          "output_type": "stream",
          "name": "stderr",
          "text": [
            "<ipython-input-22-54d61a38a25b>:2: SettingWithCopyWarning: \n",
            "A value is trying to be set on a copy of a slice from a DataFrame\n",
            "\n",
            "See the caveats in the documentation: https://pandas.pydata.org/pandas-docs/stable/user_guide/indexing.html#returning-a-view-versus-a-copy\n",
            "  fin_train.drop(['c_nph_ta_chi', 'c_nph_ta'], axis=1, inplace=True)\n",
            "<ipython-input-22-54d61a38a25b>:3: SettingWithCopyWarning: \n",
            "A value is trying to be set on a copy of a slice from a DataFrame\n",
            "\n",
            "See the caveats in the documentation: https://pandas.pydata.org/pandas-docs/stable/user_guide/indexing.html#returning-a-view-versus-a-copy\n",
            "  fin_test.drop(['c_nph_ta_chi', 'c_nph_ta'], axis=1, inplace=True)\n"
          ]
        }
      ]
    },
    {
      "cell_type": "code",
      "source": [
        "print(fin_train.info())\n",
        "print(fin_test.info())"
      ],
      "metadata": {
        "colab": {
          "base_uri": "https://localhost:8080/"
        },
        "id": "RZyjYvSUhsHt",
        "outputId": "7b629e30-ecaa-4873-cdc0-a833fd925089"
      },
      "execution_count": null,
      "outputs": [
        {
          "output_type": "stream",
          "name": "stdout",
          "text": [
            "<class 'pandas.core.frame.DataFrame'>\n",
            "Index: 236736 entries, 52608 to 710207\n",
            "Data columns (total 10 columns):\n",
            " #   Column        Non-Null Count   Dtype         \n",
            "---  ------        --------------   -----         \n",
            " 0   c_num         236736 non-null  int64         \n",
            " 1   e_tm          236736 non-null  datetime64[ns]\n",
            " 2   c_stn         236736 non-null  int64         \n",
            " 3   c_nph_hm      236736 non-null  float64       \n",
            " 4   c_nph_ws_10m  236736 non-null  float64       \n",
            " 5   c_nph_rn_60m  236736 non-null  float64       \n",
            " 6   e_weekday     236736 non-null  int64         \n",
            " 7   e_week_name   236736 non-null  int64         \n",
            " 8   e_elec        236736 non-null  float64       \n",
            " 9   pca_feature   236736 non-null  float64       \n",
            "dtypes: datetime64[ns](1), float64(5), int64(4)\n",
            "memory usage: 19.9 MB\n",
            "None\n",
            "<class 'pandas.core.frame.DataFrame'>\n",
            "Index: 78840 entries, 35040 to 797159\n",
            "Data columns (total 9 columns):\n",
            " #   Column        Non-Null Count  Dtype         \n",
            "---  ------        --------------  -----         \n",
            " 0   c_num         78840 non-null  int64         \n",
            " 1   e_tm          78840 non-null  datetime64[ns]\n",
            " 2   c_stn         78840 non-null  int64         \n",
            " 3   c_nph_hm      78840 non-null  float64       \n",
            " 4   c_nph_ws_10m  78840 non-null  float64       \n",
            " 5   c_nph_rn_60m  78840 non-null  float64       \n",
            " 6   e_weekday     78840 non-null  int64         \n",
            " 7   e_week_name   78840 non-null  int64         \n",
            " 8   pca_feature   78840 non-null  float64       \n",
            "dtypes: datetime64[ns](1), float64(4), int64(4)\n",
            "memory usage: 6.0 MB\n",
            "None\n"
          ]
        }
      ]
    },
    {
      "cell_type": "code",
      "source": [
        "# 풍속 이상치를 제거하는 함수\n",
        "# 풍속의 이상치(음수값=-99)를 전/후 평균값으로 대체\n",
        "def replace_negatives_with_mean(df, column):\n",
        "    values = df[column].values\n",
        "    for i in range(len(values)):\n",
        "        if values[i] < 0:\n",
        "            if i == 0:\n",
        "                next_value = values[i + 1]\n",
        "                values[i] = next_value  # 첫 번째 값이 음수일 경우 다음 값으로 대체\n",
        "            elif i == len(values) - 1:\n",
        "                prev_value = values[i - 1]\n",
        "                values[i] = prev_value  # 마지막 값이 음수일 경우 이전 값으로 대체\n",
        "            else:                       # 이전 값과 다음 값의 평균으로 대체\n",
        "                prev_value = values[i - 1]\n",
        "                next_value = values[i + 1]\n",
        "                values[i] = (prev_value + next_value) / 2\n",
        "    df[column] = values\n",
        "\n",
        "# 음수 값을 이상치로 간주하고 대체\n",
        "replace_negatives_with_mean(fin_train, 'c_nph_ws_10m')\n",
        "replace_negatives_with_mean(df_test, 'c_nph_ws_10m')"
      ],
      "metadata": {
        "colab": {
          "base_uri": "https://localhost:8080/"
        },
        "id": "URtJnDpPZ0lM",
        "outputId": "ffa4b3cc-d9fb-4406-e8ba-543d4a3c57d2"
      },
      "execution_count": null,
      "outputs": [
        {
          "output_type": "stream",
          "name": "stderr",
          "text": [
            "<ipython-input-25-e3519ce48770>:17: SettingWithCopyWarning: \n",
            "A value is trying to be set on a copy of a slice from a DataFrame.\n",
            "Try using .loc[row_indexer,col_indexer] = value instead\n",
            "\n",
            "See the caveats in the documentation: https://pandas.pydata.org/pandas-docs/stable/user_guide/indexing.html#returning-a-view-versus-a-copy\n",
            "  df[column] = values\n"
          ]
        }
      ]
    },
    {
      "cell_type": "code",
      "source": [
        "# 풍속 이상값이 있는지 확인\n",
        "indices = fin_train[fin_train == -99].stack().index.tolist()\n",
        "indices2 = df_test[fin_test == -99].stack().index.tolist()\n",
        "\n",
        "print(indices)\n",
        "print(indices2)"
      ],
      "metadata": {
        "colab": {
          "base_uri": "https://localhost:8080/"
        },
        "id": "isl3HBUgaKNU",
        "outputId": "f7bda216-94ce-4a03-aeae-929c70714581"
      },
      "execution_count": null,
      "outputs": [
        {
          "output_type": "stream",
          "name": "stdout",
          "text": [
            "[]\n",
            "[]\n"
          ]
        }
      ]
    },
    {
      "cell_type": "code",
      "source": [
        "#풍속의 이상치 대체 후 describe 확인\n",
        "pd.options.display.float_format = '{:.4f}'.format\n",
        "print(fin_train['c_nph_ws_10m'].describe())\n",
        "print(df_test['c_nph_ws_10m'].describe())"
      ],
      "metadata": {
        "colab": {
          "base_uri": "https://localhost:8080/"
        },
        "id": "aAwta5kFaO4R",
        "outputId": "4957b0af-e429-4e20-ec06-0e727306a196"
      },
      "execution_count": null,
      "outputs": [
        {
          "output_type": "stream",
          "name": "stdout",
          "text": [
            "count   236736.0000\n",
            "mean         2.8669\n",
            "std          2.2638\n",
            "min          0.0000\n",
            "25%          1.2000\n",
            "50%          2.3000\n",
            "75%          3.8000\n",
            "max         20.7000\n",
            "Name: c_nph_ws_10m, dtype: float64\n",
            "count   1048575.0000\n",
            "mean          1.6880\n",
            "std           1.7839\n",
            "min         -99.0000\n",
            "25%           0.5000\n",
            "50%           1.2000\n",
            "75%           2.3000\n",
            "max          30.0000\n",
            "Name: c_nph_ws_10m, dtype: float64\n"
          ]
        }
      ]
    },
    {
      "cell_type": "code",
      "source": [
        "fin_train.set_index(\"e_tm\", inplace=True)\n",
        "fin_test.set_index(\"e_tm\", inplace=True)"
      ],
      "metadata": {
        "id": "CVCYRgy-gAK-"
      },
      "execution_count": null,
      "outputs": []
    },
    {
      "cell_type": "code",
      "source": [
        "print(fin_train.info())\n",
        "print(fin_test.info())"
      ],
      "metadata": {
        "colab": {
          "base_uri": "https://localhost:8080/"
        },
        "id": "Jr2MG5XAj6Qd",
        "outputId": "dc627bbe-7c34-48d2-c047-e3983f39a533"
      },
      "execution_count": null,
      "outputs": [
        {
          "output_type": "stream",
          "name": "stdout",
          "text": [
            "<class 'pandas.core.frame.DataFrame'>\n",
            "DatetimeIndex: 236736 entries, 2020-01-01 01:00:00 to 2023-01-01 00:00:00\n",
            "Data columns (total 9 columns):\n",
            " #   Column        Non-Null Count   Dtype  \n",
            "---  ------        --------------   -----  \n",
            " 0   c_num         236736 non-null  int64  \n",
            " 1   c_stn         236736 non-null  int64  \n",
            " 2   c_nph_hm      236736 non-null  float64\n",
            " 3   c_nph_ws_10m  236736 non-null  float64\n",
            " 4   c_nph_rn_60m  236736 non-null  float64\n",
            " 5   e_weekday     236736 non-null  int64  \n",
            " 6   e_week_name   236736 non-null  int64  \n",
            " 7   e_elec        236736 non-null  float64\n",
            " 8   pca_feature   236736 non-null  float64\n",
            "dtypes: float64(5), int64(4)\n",
            "memory usage: 18.1 MB\n",
            "None\n",
            "<class 'pandas.core.frame.DataFrame'>\n",
            "DatetimeIndex: 78840 entries, 2023-01-01 01:00:00 to 2024-01-01 00:00:00\n",
            "Data columns (total 8 columns):\n",
            " #   Column        Non-Null Count  Dtype  \n",
            "---  ------        --------------  -----  \n",
            " 0   c_num         78840 non-null  int64  \n",
            " 1   c_stn         78840 non-null  int64  \n",
            " 2   c_nph_hm      78840 non-null  float64\n",
            " 3   c_nph_ws_10m  78840 non-null  float64\n",
            " 4   c_nph_rn_60m  78840 non-null  float64\n",
            " 5   e_weekday     78840 non-null  int64  \n",
            " 6   e_week_name   78840 non-null  int64  \n",
            " 7   pca_feature   78840 non-null  float64\n",
            "dtypes: float64(4), int64(4)\n",
            "memory usage: 5.4 MB\n",
            "None\n"
          ]
        }
      ]
    },
    {
      "cell_type": "markdown",
      "source": [
        "## ‘c_num’별로 데이터프레임을 나눈 후 수평으로 합치기"
      ],
      "metadata": {
        "id": "1d9SLO9gXOoZ"
      }
    },
    {
      "cell_type": "code",
      "source": [
        "# 수평으로 합치기 train\n",
        "\n",
        "lst = fin_train[\"c_num\"].unique()\n",
        "# list안에 c_num별로 column을 나누어 저장\n",
        "\n",
        "c_num_lst = []\n",
        "for i in lst:\n",
        "    df_temp = fin_train[fin_train[\"c_num\"] == i ]\n",
        "    c_num_lst.append(df_temp)\n",
        "\n",
        "# 각 데이터프레임의 컬럼 이름에 접미사 추가\n",
        "for i in range(len(c_num_lst)):\n",
        "    c_num_lst[i] = c_num_lst[i].rename(columns=lambda x: x + \"_\" + str(lst[i]))\n",
        "\n",
        "# 모든 데이터프레임을 리스트에 저장\n",
        "all_dfs = c_num_lst\n",
        "\n",
        "# 데이터프레임들을 수평으로 합치기 (기존 컬럼명을 유지)\n",
        "fin_train = pd.concat(all_dfs, axis=1, join='inner')"
      ],
      "metadata": {
        "id": "9gZnb5lA_RxW"
      },
      "execution_count": null,
      "outputs": []
    },
    {
      "cell_type": "code",
      "source": [
        "# 수평으로 합치기 test\n",
        "# list안에 c_num별로 column을 나누어 저장\n",
        "\n",
        "c_num_lst = []\n",
        "for i in lst:\n",
        "    df_temp = fin_test[fin_test[\"c_num\"] == i ]\n",
        "    c_num_lst.append(df_temp)\n",
        "\n",
        "# 각 데이터프레임의 컬럼 이름에 접미사 추가\n",
        "for i in range(len(c_num_lst)):\n",
        "    c_num_lst[i] = c_num_lst[i].rename(columns=lambda x: x + \"_\" + str(lst[i]))\n",
        "\n",
        "# 모든 데이터프레임을 리스트에 저장\n",
        "all_dfs = c_num_lst\n",
        "\n",
        "# 데이터프레임들을 수평으로 합치기 (기존 컬럼명을 유지)\n",
        "fin_test = pd.concat(all_dfs, axis=1, join='inner')"
      ],
      "metadata": {
        "id": "spx5eBs6UvKj"
      },
      "execution_count": null,
      "outputs": []
    },
    {
      "cell_type": "code",
      "source": [
        "print(fin_train.shape)\n",
        "print(fin_test.shape)"
      ],
      "metadata": {
        "colab": {
          "base_uri": "https://localhost:8080/"
        },
        "id": "GHVjDo7Dc9M7",
        "outputId": "fb00bc4a-7099-4ba0-fa6e-c1895b1d501e"
      },
      "execution_count": null,
      "outputs": [
        {
          "output_type": "stream",
          "name": "stdout",
          "text": [
            "(26304, 81)\n",
            "(8760, 72)\n"
          ]
        }
      ]
    },
    {
      "cell_type": "code",
      "source": [
        "import re\n",
        "\n",
        "# train c_num로 시작하는 컬럼명 추출\n",
        "cnum_drop = [col for col in fin_train.columns if re.match(r'^c_num_', col)]\n",
        "cstn_drop = [col for col in fin_train.columns if re.match(r'^c_stn_', col)]\n",
        "\n",
        "# train 해당 컬럼 삭제\n",
        "fin_train = fin_train.drop(columns=cnum_drop)\n",
        "fin_train = fin_train.drop(columns=cstn_drop)\n",
        "\n",
        "# test c_num로 시작하는 컬럼명 추출\n",
        "cnum_drop = [col for col in fin_test.columns if re.match(r'^c_num_', col)]\n",
        "cstn_drop = [col for col in fin_test.columns if re.match(r'^c_stn_', col)]\n",
        "\n",
        "# test 해당 컬럼 삭제\n",
        "fin_test = fin_test.drop(columns=cnum_drop)\n",
        "fin_test = fin_test.drop(columns=cstn_drop)"
      ],
      "metadata": {
        "id": "_u548YY1eRqW"
      },
      "execution_count": null,
      "outputs": []
    },
    {
      "cell_type": "code",
      "source": [
        "print(fin_train.shape)\n",
        "print(fin_test.shape)"
      ],
      "metadata": {
        "colab": {
          "base_uri": "https://localhost:8080/"
        },
        "id": "zsODTg6wdPvT",
        "outputId": "14437737-a02d-40ef-8a32-795e9d108af4"
      },
      "execution_count": null,
      "outputs": [
        {
          "output_type": "stream",
          "name": "stdout",
          "text": [
            "(26304, 63)\n",
            "(8760, 54)\n"
          ]
        }
      ]
    },
    {
      "cell_type": "markdown",
      "source": [
        "## 스케일링"
      ],
      "metadata": {
        "id": "Yluc7BLlXeGT"
      }
    },
    {
      "cell_type": "code",
      "source": [
        "# 스케일링전 스케일링 필요없거나 방식 다른의 스케일링 필요 컬럼 추출 후 드롭\n",
        "# 'e_weekday_9736', 'e_week_name_9736' 추출\n",
        "# 'e_weekday' -> 월(0)-일(6), one-hot encoding 필요\n",
        "# 'e_weekname' -> 주중(0),주말(1)\n",
        "train_weekday = fin_train[['e_weekday_9736']]\n",
        "train_weekname = fin_train[['e_week_name_9736']]\n",
        "test_weekday = fin_test[['e_weekday_9736']]\n",
        "test_weekname = fin_test[['e_week_name_9736']]"
      ],
      "metadata": {
        "id": "Lur5vfgJi71e"
      },
      "execution_count": null,
      "outputs": []
    },
    {
      "cell_type": "code",
      "source": [
        "# train c_num로 시작하는 컬럼명 추출\n",
        "e_weekday_drop = [col for col in fin_train.columns\n",
        "                  if re.match(r'^e_weekday_', col)]\n",
        "e_week_name_drop = [col for col in fin_train.columns\n",
        "                    if re.match(r'^e_week_name_', col)]\n",
        "\n",
        "# train 해당 컬럼 삭제\n",
        "fin_train = fin_train.drop(columns=e_weekday_drop)\n",
        "fin_train = fin_train.drop(columns=e_week_name_drop)\n",
        "\n",
        "# test c_num로 시작하는 컬럼명 추출\n",
        "e_weekday_drop = [col for col in fin_test.columns\n",
        "                  if re.match(r'^e_weekday_', col)]\n",
        "e_week_name_drop = [col for col in fin_test.columns\n",
        "                    if re.match(r'^e_week_name_', col)]\n",
        "\n",
        "# test 해당 컬럼 삭제\n",
        "fin_test = fin_test.drop(columns=e_weekday_drop)\n",
        "fin_test = fin_test.drop(columns=e_week_name_drop)"
      ],
      "metadata": {
        "id": "HWBEBsPAjoXg"
      },
      "execution_count": null,
      "outputs": []
    },
    {
      "cell_type": "code",
      "source": [
        "# train 데이터 (label 포함)\n",
        "# c_num별 기온관련 모든 열의 평균을 계산하고 새로운 열로 추가\n",
        "hm_columns = fin_train.filter(regex='^c_nph_hm_').columns\n",
        "fin_train['mean_c_nph_hm'] = fin_train[hm_columns].mean(axis=1)\n",
        "\n",
        "ws_10m_columns = fin_train.filter(regex='^c_nph_ws_10m_').columns\n",
        "fin_train['mean_c_nph_ws_10m'] = fin_train[ws_10m_columns].mean(axis=1)\n",
        "\n",
        "rn_60m_columns = fin_train.filter(regex='^c_nph_rn_60m_').columns\n",
        "fin_train['mean_c_nph_rn_60m'] = fin_train[rn_60m_columns].mean(axis=1)\n",
        "\n",
        "pca_feature_columns = fin_train.filter(regex='^pca_feature_').columns\n",
        "fin_train['mean_pca_feature'] = fin_train[pca_feature_columns].mean(axis=1)\n",
        "\n",
        "e_elec_columns = fin_train.filter(regex='^e_elec_').columns\n",
        "fin_train['mean_e_elec'] = fin_train[e_elec_columns].mean(axis=1)\n",
        "\n",
        "# 'c_num'별 모든 열을 삭제\n",
        "fin_train.drop(columns=hm_columns, inplace=True)\n",
        "\n",
        "fin_train.drop(columns=ws_10m_columns, inplace=True)\n",
        "\n",
        "fin_train.drop(columns=rn_60m_columns, inplace=True)\n",
        "\n",
        "fin_train.drop(columns=pca_feature_columns, inplace=True)\n",
        "\n",
        "fin_train.drop(columns=e_elec_columns, inplace=True)"
      ],
      "metadata": {
        "id": "Xc6tbVNHvTh0"
      },
      "execution_count": null,
      "outputs": []
    },
    {
      "cell_type": "code",
      "source": [
        "# test 데이터 (label 포함)\n",
        "# c_num별 기온관련 모든 열의 평균을 계산하고 새로운 열로 추가\n",
        "hm_columns = fin_test.filter(regex='^c_nph_hm_').columns\n",
        "fin_test['mean_c_nph_hm'] = fin_test[hm_columns].mean(axis=1)\n",
        "\n",
        "ws_10m_columns = fin_test.filter(regex='^c_nph_ws_10m_').columns\n",
        "fin_test['mean_c_nph_ws_10m'] = fin_test[ws_10m_columns].mean(axis=1)\n",
        "\n",
        "rn_60m_columns = fin_test.filter(regex='^c_nph_rn_60m_').columns\n",
        "fin_test['mean_c_nph_rn_60m'] = fin_test[rn_60m_columns].mean(axis=1)\n",
        "\n",
        "pca_feature_columns = fin_test.filter(regex='^pca_feature_').columns\n",
        "fin_test['mean_pca_feature'] = fin_test[pca_feature_columns].mean(axis=1)\n",
        "\n",
        "# 'c_num'별 모든 열을 삭제\n",
        "fin_test.drop(columns=hm_columns, inplace=True)\n",
        "\n",
        "fin_test.drop(columns=ws_10m_columns, inplace=True)\n",
        "\n",
        "fin_test.drop(columns=rn_60m_columns, inplace=True)\n",
        "\n",
        "fin_test.drop(columns=pca_feature_columns, inplace=True)"
      ],
      "metadata": {
        "id": "c97MeXA_Mi_r"
      },
      "execution_count": null,
      "outputs": []
    },
    {
      "cell_type": "code",
      "source": [
        "print(fin_train.shape)\n",
        "print(fin_test.shape)"
      ],
      "metadata": {
        "colab": {
          "base_uri": "https://localhost:8080/"
        },
        "id": "EzfK5bPwlHr9",
        "outputId": "22b5f098-fb50-4abc-b85c-6e2fa7596fb3"
      },
      "execution_count": null,
      "outputs": [
        {
          "output_type": "stream",
          "name": "stdout",
          "text": [
            "(26304, 5)\n",
            "(8760, 4)\n"
          ]
        }
      ]
    },
    {
      "cell_type": "code",
      "source": [
        "train_weekday.columns = ['e_weekday']\n",
        "train_weekname.columns = ['e_weekname']\n",
        "test_weekday.columns = ['e_weekday']\n",
        "test_weekname.columns = ['e_weekname']\n",
        "\n",
        "train_weekday = train_weekday.astype(object)\n",
        "test_weekday = test_weekday.astype(object)"
      ],
      "metadata": {
        "id": "aymKJV8Zr8En"
      },
      "execution_count": null,
      "outputs": []
    },
    {
      "cell_type": "code",
      "source": [
        "train_weekday"
      ],
      "metadata": {
        "colab": {
          "base_uri": "https://localhost:8080/",
          "height": 455
        },
        "id": "K0KjcjZHspu_",
        "outputId": "77df366e-aea9-47c2-ccab-3a3d3832da9c"
      },
      "execution_count": null,
      "outputs": [
        {
          "output_type": "execute_result",
          "data": {
            "text/plain": [
              "                    e_weekday\n",
              "e_tm                         \n",
              "2020-01-01 01:00:00         2\n",
              "2020-01-01 02:00:00         2\n",
              "2020-01-01 03:00:00         2\n",
              "2020-01-01 04:00:00         2\n",
              "2020-01-01 05:00:00         2\n",
              "...                       ...\n",
              "2022-12-31 20:00:00         5\n",
              "2022-12-31 21:00:00         5\n",
              "2022-12-31 22:00:00         5\n",
              "2022-12-31 23:00:00         5\n",
              "2023-01-01 00:00:00         6\n",
              "\n",
              "[26304 rows x 1 columns]"
            ],
            "text/html": [
              "\n",
              "  <div id=\"df-ac29af58-dff0-4fc6-8321-afab95e4b50e\" class=\"colab-df-container\">\n",
              "    <div>\n",
              "<style scoped>\n",
              "    .dataframe tbody tr th:only-of-type {\n",
              "        vertical-align: middle;\n",
              "    }\n",
              "\n",
              "    .dataframe tbody tr th {\n",
              "        vertical-align: top;\n",
              "    }\n",
              "\n",
              "    .dataframe thead th {\n",
              "        text-align: right;\n",
              "    }\n",
              "</style>\n",
              "<table border=\"1\" class=\"dataframe\">\n",
              "  <thead>\n",
              "    <tr style=\"text-align: right;\">\n",
              "      <th></th>\n",
              "      <th>e_weekday</th>\n",
              "    </tr>\n",
              "    <tr>\n",
              "      <th>e_tm</th>\n",
              "      <th></th>\n",
              "    </tr>\n",
              "  </thead>\n",
              "  <tbody>\n",
              "    <tr>\n",
              "      <th>2020-01-01 01:00:00</th>\n",
              "      <td>2</td>\n",
              "    </tr>\n",
              "    <tr>\n",
              "      <th>2020-01-01 02:00:00</th>\n",
              "      <td>2</td>\n",
              "    </tr>\n",
              "    <tr>\n",
              "      <th>2020-01-01 03:00:00</th>\n",
              "      <td>2</td>\n",
              "    </tr>\n",
              "    <tr>\n",
              "      <th>2020-01-01 04:00:00</th>\n",
              "      <td>2</td>\n",
              "    </tr>\n",
              "    <tr>\n",
              "      <th>2020-01-01 05:00:00</th>\n",
              "      <td>2</td>\n",
              "    </tr>\n",
              "    <tr>\n",
              "      <th>...</th>\n",
              "      <td>...</td>\n",
              "    </tr>\n",
              "    <tr>\n",
              "      <th>2022-12-31 20:00:00</th>\n",
              "      <td>5</td>\n",
              "    </tr>\n",
              "    <tr>\n",
              "      <th>2022-12-31 21:00:00</th>\n",
              "      <td>5</td>\n",
              "    </tr>\n",
              "    <tr>\n",
              "      <th>2022-12-31 22:00:00</th>\n",
              "      <td>5</td>\n",
              "    </tr>\n",
              "    <tr>\n",
              "      <th>2022-12-31 23:00:00</th>\n",
              "      <td>5</td>\n",
              "    </tr>\n",
              "    <tr>\n",
              "      <th>2023-01-01 00:00:00</th>\n",
              "      <td>6</td>\n",
              "    </tr>\n",
              "  </tbody>\n",
              "</table>\n",
              "<p>26304 rows × 1 columns</p>\n",
              "</div>\n",
              "    <div class=\"colab-df-buttons\">\n",
              "\n",
              "  <div class=\"colab-df-container\">\n",
              "    <button class=\"colab-df-convert\" onclick=\"convertToInteractive('df-ac29af58-dff0-4fc6-8321-afab95e4b50e')\"\n",
              "            title=\"Convert this dataframe to an interactive table.\"\n",
              "            style=\"display:none;\">\n",
              "\n",
              "  <svg xmlns=\"http://www.w3.org/2000/svg\" height=\"24px\" viewBox=\"0 -960 960 960\">\n",
              "    <path d=\"M120-120v-720h720v720H120Zm60-500h600v-160H180v160Zm220 220h160v-160H400v160Zm0 220h160v-160H400v160ZM180-400h160v-160H180v160Zm440 0h160v-160H620v160ZM180-180h160v-160H180v160Zm440 0h160v-160H620v160Z\"/>\n",
              "  </svg>\n",
              "    </button>\n",
              "\n",
              "  <style>\n",
              "    .colab-df-container {\n",
              "      display:flex;\n",
              "      gap: 12px;\n",
              "    }\n",
              "\n",
              "    .colab-df-convert {\n",
              "      background-color: #E8F0FE;\n",
              "      border: none;\n",
              "      border-radius: 50%;\n",
              "      cursor: pointer;\n",
              "      display: none;\n",
              "      fill: #1967D2;\n",
              "      height: 32px;\n",
              "      padding: 0 0 0 0;\n",
              "      width: 32px;\n",
              "    }\n",
              "\n",
              "    .colab-df-convert:hover {\n",
              "      background-color: #E2EBFA;\n",
              "      box-shadow: 0px 1px 2px rgba(60, 64, 67, 0.3), 0px 1px 3px 1px rgba(60, 64, 67, 0.15);\n",
              "      fill: #174EA6;\n",
              "    }\n",
              "\n",
              "    .colab-df-buttons div {\n",
              "      margin-bottom: 4px;\n",
              "    }\n",
              "\n",
              "    [theme=dark] .colab-df-convert {\n",
              "      background-color: #3B4455;\n",
              "      fill: #D2E3FC;\n",
              "    }\n",
              "\n",
              "    [theme=dark] .colab-df-convert:hover {\n",
              "      background-color: #434B5C;\n",
              "      box-shadow: 0px 1px 3px 1px rgba(0, 0, 0, 0.15);\n",
              "      filter: drop-shadow(0px 1px 2px rgba(0, 0, 0, 0.3));\n",
              "      fill: #FFFFFF;\n",
              "    }\n",
              "  </style>\n",
              "\n",
              "    <script>\n",
              "      const buttonEl =\n",
              "        document.querySelector('#df-ac29af58-dff0-4fc6-8321-afab95e4b50e button.colab-df-convert');\n",
              "      buttonEl.style.display =\n",
              "        google.colab.kernel.accessAllowed ? 'block' : 'none';\n",
              "\n",
              "      async function convertToInteractive(key) {\n",
              "        const element = document.querySelector('#df-ac29af58-dff0-4fc6-8321-afab95e4b50e');\n",
              "        const dataTable =\n",
              "          await google.colab.kernel.invokeFunction('convertToInteractive',\n",
              "                                                    [key], {});\n",
              "        if (!dataTable) return;\n",
              "\n",
              "        const docLinkHtml = 'Like what you see? Visit the ' +\n",
              "          '<a target=\"_blank\" href=https://colab.research.google.com/notebooks/data_table.ipynb>data table notebook</a>'\n",
              "          + ' to learn more about interactive tables.';\n",
              "        element.innerHTML = '';\n",
              "        dataTable['output_type'] = 'display_data';\n",
              "        await google.colab.output.renderOutput(dataTable, element);\n",
              "        const docLink = document.createElement('div');\n",
              "        docLink.innerHTML = docLinkHtml;\n",
              "        element.appendChild(docLink);\n",
              "      }\n",
              "    </script>\n",
              "  </div>\n",
              "\n",
              "\n",
              "<div id=\"df-32192936-51ad-40af-946b-505c3acb3365\">\n",
              "  <button class=\"colab-df-quickchart\" onclick=\"quickchart('df-32192936-51ad-40af-946b-505c3acb3365')\"\n",
              "            title=\"Suggest charts\"\n",
              "            style=\"display:none;\">\n",
              "\n",
              "<svg xmlns=\"http://www.w3.org/2000/svg\" height=\"24px\"viewBox=\"0 0 24 24\"\n",
              "     width=\"24px\">\n",
              "    <g>\n",
              "        <path d=\"M19 3H5c-1.1 0-2 .9-2 2v14c0 1.1.9 2 2 2h14c1.1 0 2-.9 2-2V5c0-1.1-.9-2-2-2zM9 17H7v-7h2v7zm4 0h-2V7h2v10zm4 0h-2v-4h2v4z\"/>\n",
              "    </g>\n",
              "</svg>\n",
              "  </button>\n",
              "\n",
              "<style>\n",
              "  .colab-df-quickchart {\n",
              "      --bg-color: #E8F0FE;\n",
              "      --fill-color: #1967D2;\n",
              "      --hover-bg-color: #E2EBFA;\n",
              "      --hover-fill-color: #174EA6;\n",
              "      --disabled-fill-color: #AAA;\n",
              "      --disabled-bg-color: #DDD;\n",
              "  }\n",
              "\n",
              "  [theme=dark] .colab-df-quickchart {\n",
              "      --bg-color: #3B4455;\n",
              "      --fill-color: #D2E3FC;\n",
              "      --hover-bg-color: #434B5C;\n",
              "      --hover-fill-color: #FFFFFF;\n",
              "      --disabled-bg-color: #3B4455;\n",
              "      --disabled-fill-color: #666;\n",
              "  }\n",
              "\n",
              "  .colab-df-quickchart {\n",
              "    background-color: var(--bg-color);\n",
              "    border: none;\n",
              "    border-radius: 50%;\n",
              "    cursor: pointer;\n",
              "    display: none;\n",
              "    fill: var(--fill-color);\n",
              "    height: 32px;\n",
              "    padding: 0;\n",
              "    width: 32px;\n",
              "  }\n",
              "\n",
              "  .colab-df-quickchart:hover {\n",
              "    background-color: var(--hover-bg-color);\n",
              "    box-shadow: 0 1px 2px rgba(60, 64, 67, 0.3), 0 1px 3px 1px rgba(60, 64, 67, 0.15);\n",
              "    fill: var(--button-hover-fill-color);\n",
              "  }\n",
              "\n",
              "  .colab-df-quickchart-complete:disabled,\n",
              "  .colab-df-quickchart-complete:disabled:hover {\n",
              "    background-color: var(--disabled-bg-color);\n",
              "    fill: var(--disabled-fill-color);\n",
              "    box-shadow: none;\n",
              "  }\n",
              "\n",
              "  .colab-df-spinner {\n",
              "    border: 2px solid var(--fill-color);\n",
              "    border-color: transparent;\n",
              "    border-bottom-color: var(--fill-color);\n",
              "    animation:\n",
              "      spin 1s steps(1) infinite;\n",
              "  }\n",
              "\n",
              "  @keyframes spin {\n",
              "    0% {\n",
              "      border-color: transparent;\n",
              "      border-bottom-color: var(--fill-color);\n",
              "      border-left-color: var(--fill-color);\n",
              "    }\n",
              "    20% {\n",
              "      border-color: transparent;\n",
              "      border-left-color: var(--fill-color);\n",
              "      border-top-color: var(--fill-color);\n",
              "    }\n",
              "    30% {\n",
              "      border-color: transparent;\n",
              "      border-left-color: var(--fill-color);\n",
              "      border-top-color: var(--fill-color);\n",
              "      border-right-color: var(--fill-color);\n",
              "    }\n",
              "    40% {\n",
              "      border-color: transparent;\n",
              "      border-right-color: var(--fill-color);\n",
              "      border-top-color: var(--fill-color);\n",
              "    }\n",
              "    60% {\n",
              "      border-color: transparent;\n",
              "      border-right-color: var(--fill-color);\n",
              "    }\n",
              "    80% {\n",
              "      border-color: transparent;\n",
              "      border-right-color: var(--fill-color);\n",
              "      border-bottom-color: var(--fill-color);\n",
              "    }\n",
              "    90% {\n",
              "      border-color: transparent;\n",
              "      border-bottom-color: var(--fill-color);\n",
              "    }\n",
              "  }\n",
              "</style>\n",
              "\n",
              "  <script>\n",
              "    async function quickchart(key) {\n",
              "      const quickchartButtonEl =\n",
              "        document.querySelector('#' + key + ' button');\n",
              "      quickchartButtonEl.disabled = true;  // To prevent multiple clicks.\n",
              "      quickchartButtonEl.classList.add('colab-df-spinner');\n",
              "      try {\n",
              "        const charts = await google.colab.kernel.invokeFunction(\n",
              "            'suggestCharts', [key], {});\n",
              "      } catch (error) {\n",
              "        console.error('Error during call to suggestCharts:', error);\n",
              "      }\n",
              "      quickchartButtonEl.classList.remove('colab-df-spinner');\n",
              "      quickchartButtonEl.classList.add('colab-df-quickchart-complete');\n",
              "    }\n",
              "    (() => {\n",
              "      let quickchartButtonEl =\n",
              "        document.querySelector('#df-32192936-51ad-40af-946b-505c3acb3365 button');\n",
              "      quickchartButtonEl.style.display =\n",
              "        google.colab.kernel.accessAllowed ? 'block' : 'none';\n",
              "    })();\n",
              "  </script>\n",
              "</div>\n",
              "\n",
              "  <div id=\"id_f52a9bbc-2a08-4af0-8866-d3a9b658c5bd\">\n",
              "    <style>\n",
              "      .colab-df-generate {\n",
              "        background-color: #E8F0FE;\n",
              "        border: none;\n",
              "        border-radius: 50%;\n",
              "        cursor: pointer;\n",
              "        display: none;\n",
              "        fill: #1967D2;\n",
              "        height: 32px;\n",
              "        padding: 0 0 0 0;\n",
              "        width: 32px;\n",
              "      }\n",
              "\n",
              "      .colab-df-generate:hover {\n",
              "        background-color: #E2EBFA;\n",
              "        box-shadow: 0px 1px 2px rgba(60, 64, 67, 0.3), 0px 1px 3px 1px rgba(60, 64, 67, 0.15);\n",
              "        fill: #174EA6;\n",
              "      }\n",
              "\n",
              "      [theme=dark] .colab-df-generate {\n",
              "        background-color: #3B4455;\n",
              "        fill: #D2E3FC;\n",
              "      }\n",
              "\n",
              "      [theme=dark] .colab-df-generate:hover {\n",
              "        background-color: #434B5C;\n",
              "        box-shadow: 0px 1px 3px 1px rgba(0, 0, 0, 0.15);\n",
              "        filter: drop-shadow(0px 1px 2px rgba(0, 0, 0, 0.3));\n",
              "        fill: #FFFFFF;\n",
              "      }\n",
              "    </style>\n",
              "    <button class=\"colab-df-generate\" onclick=\"generateWithVariable('train_weekday')\"\n",
              "            title=\"Generate code using this dataframe.\"\n",
              "            style=\"display:none;\">\n",
              "\n",
              "  <svg xmlns=\"http://www.w3.org/2000/svg\" height=\"24px\"viewBox=\"0 0 24 24\"\n",
              "       width=\"24px\">\n",
              "    <path d=\"M7,19H8.4L18.45,9,17,7.55,7,17.6ZM5,21V16.75L18.45,3.32a2,2,0,0,1,2.83,0l1.4,1.43a1.91,1.91,0,0,1,.58,1.4,1.91,1.91,0,0,1-.58,1.4L9.25,21ZM18.45,9,17,7.55Zm-12,3A5.31,5.31,0,0,0,4.9,8.1,5.31,5.31,0,0,0,1,6.5,5.31,5.31,0,0,0,4.9,4.9,5.31,5.31,0,0,0,6.5,1,5.31,5.31,0,0,0,8.1,4.9,5.31,5.31,0,0,0,12,6.5,5.46,5.46,0,0,0,6.5,12Z\"/>\n",
              "  </svg>\n",
              "    </button>\n",
              "    <script>\n",
              "      (() => {\n",
              "      const buttonEl =\n",
              "        document.querySelector('#id_f52a9bbc-2a08-4af0-8866-d3a9b658c5bd button.colab-df-generate');\n",
              "      buttonEl.style.display =\n",
              "        google.colab.kernel.accessAllowed ? 'block' : 'none';\n",
              "\n",
              "      buttonEl.onclick = () => {\n",
              "        google.colab.notebook.generateWithVariable('train_weekday');\n",
              "      }\n",
              "      })();\n",
              "    </script>\n",
              "  </div>\n",
              "\n",
              "    </div>\n",
              "  </div>\n"
            ],
            "application/vnd.google.colaboratory.intrinsic+json": {
              "type": "dataframe",
              "variable_name": "train_weekday",
              "summary": "{\n  \"name\": \"train_weekday\",\n  \"rows\": 26304,\n  \"fields\": [\n    {\n      \"column\": \"e_tm\",\n      \"properties\": {\n        \"dtype\": \"date\",\n        \"min\": \"2020-01-01 01:00:00\",\n        \"max\": \"2023-01-01 00:00:00\",\n        \"num_unique_values\": 26304,\n        \"samples\": [\n          \"2020-08-05 04:00:00\",\n          \"2022-12-29 00:00:00\",\n          \"2020-04-24 17:00:00\"\n        ],\n        \"semantic_type\": \"\",\n        \"description\": \"\"\n      }\n    },\n    {\n      \"column\": \"e_weekday\",\n      \"properties\": {\n        \"dtype\": \"date\",\n        \"min\": 0,\n        \"max\": 6,\n        \"num_unique_values\": 7,\n        \"samples\": [\n          2,\n          3,\n          0\n        ],\n        \"semantic_type\": \"\",\n        \"description\": \"\"\n      }\n    }\n  ]\n}"
            }
          },
          "metadata": {},
          "execution_count": 89
        }
      ]
    },
    {
      "cell_type": "code",
      "source": [
        "# Pandas OneHotEncoding\n",
        "# 범주형데이터인 weekday(0-6) 원-핫인코딩 진행\n",
        "\n",
        "train_onehot = pd.get_dummies(train_weekday).astype(int)\n",
        "test_onehot = pd.get_dummies(test_weekday).astype(int)"
      ],
      "metadata": {
        "id": "o6Uz9l0d99Wq"
      },
      "execution_count": null,
      "outputs": []
    },
    {
      "cell_type": "code",
      "source": [
        "train_onehot.columns"
      ],
      "metadata": {
        "colab": {
          "base_uri": "https://localhost:8080/"
        },
        "id": "FE3JMN8_uODM",
        "outputId": "b2dca27b-18f9-4e71-c8df-3855a78d4afd"
      },
      "execution_count": null,
      "outputs": [
        {
          "output_type": "execute_result",
          "data": {
            "text/plain": [
              "Index(['e_weekday_0', 'e_weekday_1', 'e_weekday_2', 'e_weekday_3',\n",
              "       'e_weekday_4', 'e_weekday_5', 'e_weekday_6'],\n",
              "      dtype='object')"
            ]
          },
          "metadata": {},
          "execution_count": 91
        }
      ]
    },
    {
      "cell_type": "code",
      "source": [
        "# min max scaling\n",
        "scaler = MinMaxScaler()\n",
        "\n",
        "scaled_train_df = scaler.fit_transform(fin_train)\n",
        "scaled_test_df = scaler.fit_transform(fin_test)\n",
        "\n",
        "fin_train = pd.DataFrame(scaled_train_df, columns = fin_train.columns)\n",
        "fin_test = pd.DataFrame(scaled_test_df, columns = fin_test.columns)"
      ],
      "metadata": {
        "id": "QFkMH1We_EH2"
      },
      "execution_count": null,
      "outputs": []
    },
    {
      "cell_type": "markdown",
      "source": [
        "## 타겟변수(e_elec) 추출 후 ‘y_train’ 생성"
      ],
      "metadata": {
        "id": "8Zq9oIr5XmHd"
      }
    },
    {
      "cell_type": "code",
      "source": [
        "y_train = fin_train[\"mean_e_elec\"]\n",
        "\n",
        "del fin_train[\"mean_e_elec\"]"
      ],
      "metadata": {
        "id": "mSKYrWxVPEwl"
      },
      "execution_count": null,
      "outputs": []
    },
    {
      "cell_type": "markdown",
      "source": [
        "## 최종 데이터프레임 생성"
      ],
      "metadata": {
        "id": "NxNylFrJXslg"
      }
    },
    {
      "cell_type": "code",
      "source": [
        "print(fin_train.shape) #e_tm이 인덱스로 설정 안되어있음\n",
        "print(train_onehot.shape) #e_tm이 인덱스로 설정\n",
        "print(train_weekname.shape) #e_tm이 인덱스로 설정"
      ],
      "metadata": {
        "colab": {
          "base_uri": "https://localhost:8080/"
        },
        "id": "bt-dhTvnYM5h",
        "outputId": "84e036d2-1b42-4288-c261-a3723f4c31de"
      },
      "execution_count": null,
      "outputs": [
        {
          "output_type": "stream",
          "name": "stdout",
          "text": [
            "(26304, 4)\n",
            "(26304, 7)\n",
            "(26304, 1)\n"
          ]
        }
      ]
    },
    {
      "cell_type": "code",
      "source": [
        "# 최종 데이터셋으로 concat하기 위해 인덱스 reset\n",
        "train_onehot = train_onehot.reset_index()\n",
        "del train_onehot[\"e_tm\"]\n",
        "print(train_onehot)\n",
        "\n",
        "train_weekname = train_weekname.reset_index()\n",
        "del train_weekname[\"e_tm\"]\n",
        "print(train_weekname)"
      ],
      "metadata": {
        "colab": {
          "base_uri": "https://localhost:8080/"
        },
        "id": "h5YpPe7XaG-m",
        "outputId": "3d3e9a3e-a7f8-4972-fa5a-364d8a852c14"
      },
      "execution_count": null,
      "outputs": [
        {
          "output_type": "stream",
          "name": "stdout",
          "text": [
            "       e_weekday_0  e_weekday_1  e_weekday_2  e_weekday_3  e_weekday_4  \\\n",
            "0                0            0            1            0            0   \n",
            "1                0            0            1            0            0   \n",
            "2                0            0            1            0            0   \n",
            "3                0            0            1            0            0   \n",
            "4                0            0            1            0            0   \n",
            "...            ...          ...          ...          ...          ...   \n",
            "26299            0            0            0            0            0   \n",
            "26300            0            0            0            0            0   \n",
            "26301            0            0            0            0            0   \n",
            "26302            0            0            0            0            0   \n",
            "26303            0            0            0            0            0   \n",
            "\n",
            "       e_weekday_5  e_weekday_6  \n",
            "0                0            0  \n",
            "1                0            0  \n",
            "2                0            0  \n",
            "3                0            0  \n",
            "4                0            0  \n",
            "...            ...          ...  \n",
            "26299            1            0  \n",
            "26300            1            0  \n",
            "26301            1            0  \n",
            "26302            1            0  \n",
            "26303            0            1  \n",
            "\n",
            "[26304 rows x 7 columns]\n",
            "       e_weekname\n",
            "0               0\n",
            "1               0\n",
            "2               0\n",
            "3               0\n",
            "4               0\n",
            "...           ...\n",
            "26299           1\n",
            "26300           1\n",
            "26301           1\n",
            "26302           1\n",
            "26303           1\n",
            "\n",
            "[26304 rows x 1 columns]\n"
          ]
        }
      ]
    },
    {
      "cell_type": "code",
      "source": [
        "test_onehot = test_onehot.reset_index()\n",
        "del test_onehot[\"e_tm\"]\n",
        "print(test_onehot)\n",
        "\n",
        "test_weekname = test_weekname.reset_index()\n",
        "del test_weekname[\"e_tm\"]\n",
        "print(test_weekname)"
      ],
      "metadata": {
        "colab": {
          "base_uri": "https://localhost:8080/"
        },
        "id": "K4OL_Ni9bxnx",
        "outputId": "525c0d43-11a7-4999-e103-6b5e6fb68595"
      },
      "execution_count": null,
      "outputs": [
        {
          "output_type": "stream",
          "name": "stdout",
          "text": [
            "      e_weekday_0  e_weekday_1  e_weekday_2  e_weekday_3  e_weekday_4  \\\n",
            "0               0            0            0            0            0   \n",
            "1               0            0            0            0            0   \n",
            "2               0            0            0            0            0   \n",
            "3               0            0            0            0            0   \n",
            "4               0            0            0            0            0   \n",
            "...           ...          ...          ...          ...          ...   \n",
            "8755            0            0            0            0            0   \n",
            "8756            0            0            0            0            0   \n",
            "8757            0            0            0            0            0   \n",
            "8758            0            0            0            0            0   \n",
            "8759            1            0            0            0            0   \n",
            "\n",
            "      e_weekday_5  e_weekday_6  \n",
            "0               0            1  \n",
            "1               0            1  \n",
            "2               0            1  \n",
            "3               0            1  \n",
            "4               0            1  \n",
            "...           ...          ...  \n",
            "8755            0            1  \n",
            "8756            0            1  \n",
            "8757            0            1  \n",
            "8758            0            1  \n",
            "8759            0            0  \n",
            "\n",
            "[8760 rows x 7 columns]\n",
            "      e_weekname\n",
            "0              1\n",
            "1              1\n",
            "2              1\n",
            "3              1\n",
            "4              1\n",
            "...          ...\n",
            "8755           1\n",
            "8756           1\n",
            "8757           1\n",
            "8758           1\n",
            "8759           0\n",
            "\n",
            "[8760 rows x 1 columns]\n"
          ]
        }
      ]
    },
    {
      "cell_type": "code",
      "source": [
        "X_train = pd.concat([fin_train, train_onehot, train_weekname], axis=1)\n",
        "X_test = pd.concat([fin_test, test_onehot, test_weekname], axis = 1)"
      ],
      "metadata": {
        "id": "1JiZRv4lpFIG"
      },
      "execution_count": null,
      "outputs": []
    },
    {
      "cell_type": "code",
      "source": [
        "print(X_train.shape)\n",
        "print(X_test.shape)"
      ],
      "metadata": {
        "colab": {
          "base_uri": "https://localhost:8080/"
        },
        "id": "Po1yCCz9YQyj",
        "outputId": "f7156ee8-770c-4352-862d-b837f83ae6a5"
      },
      "execution_count": null,
      "outputs": [
        {
          "output_type": "stream",
          "name": "stdout",
          "text": [
            "(26304, 12)\n",
            "(8760, 12)\n"
          ]
        }
      ]
    },
    {
      "cell_type": "code",
      "source": [
        "# 'e_tm'만 가지는 데이터프레임 생성\n",
        "train_time = tmp1[tmp1['c_num'] == 9884]\n",
        "real_train_time = train_time[\"e_tm\"]\n",
        "print(real_train_time.head())\n",
        "\n",
        "test_time = tmp2[tmp2[\"c_num\"] == 9884]\n",
        "real_test_time = test_time[\"e_tm\"]\n",
        "print(real_test_time.head())"
      ],
      "metadata": {
        "colab": {
          "base_uri": "https://localhost:8080/"
        },
        "id": "1aJlLZTB-1em",
        "outputId": "24174d2e-ba57-4243-d37f-4fc509b9fa2b"
      },
      "execution_count": null,
      "outputs": [
        {
          "output_type": "stream",
          "name": "stdout",
          "text": [
            "184128    2020.1.1 1:00\n",
            "184129    2020.1.1 2:00\n",
            "184130    2020.1.1 3:00\n",
            "184131    2020.1.1 4:00\n",
            "184132    2020.1.1 5:00\n",
            "Name: e_tm, dtype: object\n",
            "35040    2023-01-01 1:00\n",
            "35041    2023-01-01 2:00\n",
            "35042    2023-01-01 3:00\n",
            "35043    2023-01-01 4:00\n",
            "35044    2023-01-01 5:00\n",
            "Name: e_tm, dtype: object\n"
          ]
        }
      ]
    },
    {
      "cell_type": "code",
      "source": [
        "#concat위해 인덱스 reset\n",
        "real_train_time = real_train_time.reset_index()\n",
        "del real_train_time[\"index\"]\n",
        "print(real_train_time)\n",
        "\n",
        "real_test_time = real_test_time.reset_index()\n",
        "del real_test_time[\"index\"]\n",
        "print(real_test_time)"
      ],
      "metadata": {
        "colab": {
          "base_uri": "https://localhost:8080/"
        },
        "id": "A_kq7vRgWp-R",
        "outputId": "6f5f39f3-6894-441f-ed4d-63d740ff459f",
        "collapsed": true
      },
      "execution_count": null,
      "outputs": [
        {
          "output_type": "stream",
          "name": "stdout",
          "text": [
            "                   e_tm\n",
            "0         2020.1.1 1:00\n",
            "1         2020.1.1 2:00\n",
            "2         2020.1.1 3:00\n",
            "3         2020.1.1 4:00\n",
            "4         2020.1.1 5:00\n",
            "...                 ...\n",
            "26299  2022.12.31 20:00\n",
            "26300  2022.12.31 21:00\n",
            "26301  2022.12.31 22:00\n",
            "26302  2022.12.31 23:00\n",
            "26303     2023.1.1 0:00\n",
            "\n",
            "[26304 rows x 1 columns]\n",
            "                  e_tm\n",
            "0      2023-01-01 1:00\n",
            "1      2023-01-01 2:00\n",
            "2      2023-01-01 3:00\n",
            "3      2023-01-01 4:00\n",
            "4      2023-01-01 5:00\n",
            "...                ...\n",
            "8755  2023-12-31 20:00\n",
            "8756  2023-12-31 21:00\n",
            "8757  2023-12-31 22:00\n",
            "8758  2023-12-31 23:00\n",
            "8759   2024-01-01 0:00\n",
            "\n",
            "[8760 rows x 1 columns]\n"
          ]
        }
      ]
    },
    {
      "cell_type": "code",
      "source": [
        "print(X_test.head())\n",
        "print(X_train.head())"
      ],
      "metadata": {
        "colab": {
          "base_uri": "https://localhost:8080/"
        },
        "id": "utr4W1zuXwSA",
        "outputId": "4106fa17-f95c-4f4f-aec4-374ad9abf0ff"
      },
      "execution_count": null,
      "outputs": [
        {
          "output_type": "stream",
          "name": "stdout",
          "text": [
            "   mean_c_nph_hm  mean_c_nph_ws_10m  mean_c_nph_rn_60m  mean_pca_feature  \\\n",
            "0         0.6683             0.2430             0.0000            0.6948   \n",
            "1         0.6534             0.2613             0.0000            0.6993   \n",
            "2         0.6449             0.2690             0.0000            0.6931   \n",
            "3         0.6946             0.2179             0.0000            0.7004   \n",
            "4         0.7118             0.2536             0.0000            0.7097   \n",
            "\n",
            "   e_weekday_0  e_weekday_1  e_weekday_2  e_weekday_3  e_weekday_4  \\\n",
            "0            0            0            0            0            0   \n",
            "1            0            0            0            0            0   \n",
            "2            0            0            0            0            0   \n",
            "3            0            0            0            0            0   \n",
            "4            0            0            0            0            0   \n",
            "\n",
            "   e_weekday_5  e_weekday_6  e_weekname  \n",
            "0            0            1           1  \n",
            "1            0            1           1  \n",
            "2            0            1           1  \n",
            "3            0            1           1  \n",
            "4            0            1           1  \n",
            "   mean_c_nph_hm  mean_c_nph_ws_10m  mean_c_nph_rn_60m  mean_pca_feature  \\\n",
            "0         0.5531             0.0983             0.0000            0.7829   \n",
            "1         0.5545             0.0749             0.0000            0.7877   \n",
            "2         0.5693             0.0683             0.0000            0.7687   \n",
            "3         0.5944             0.0641             0.0000            0.7689   \n",
            "4         0.6178             0.0441             0.0000            0.7551   \n",
            "\n",
            "   e_weekday_0  e_weekday_1  e_weekday_2  e_weekday_3  e_weekday_4  \\\n",
            "0            0            0            1            0            0   \n",
            "1            0            0            1            0            0   \n",
            "2            0            0            1            0            0   \n",
            "3            0            0            1            0            0   \n",
            "4            0            0            1            0            0   \n",
            "\n",
            "   e_weekday_5  e_weekday_6  e_weekname  \n",
            "0            0            0           0  \n",
            "1            0            0           0  \n",
            "2            0            0           0  \n",
            "3            0            0           0  \n",
            "4            0            0           0  \n"
          ]
        }
      ]
    },
    {
      "cell_type": "code",
      "source": [
        "X_train = pd.concat([X_train, real_train_time], axis = 1)\n",
        "y_train = pd.concat([y_train, real_train_time], axis = 1)\n",
        "X_test = pd.concat([X_test, real_test_time], axis = 1)"
      ],
      "metadata": {
        "id": "M3QgRa9LV8j5"
      },
      "execution_count": null,
      "outputs": []
    },
    {
      "cell_type": "code",
      "source": [
        "X_train['e_tm'] = pd.to_datetime(X_train['e_tm'])\n",
        "y_train['e_tm'] = pd.to_datetime(y_train['e_tm'])\n",
        "X_test['e_tm'] = pd.to_datetime(X_test['e_tm'])\n",
        "\n",
        "X_train.set_index('e_tm', inplace=True)\n",
        "y_train.set_index('e_tm', inplace=True)\n",
        "X_test.set_index('e_tm', inplace=True)"
      ],
      "metadata": {
        "id": "GkqCUa_qWR5k"
      },
      "execution_count": null,
      "outputs": []
    },
    {
      "cell_type": "code",
      "source": [
        "print(X_train.shape)\n",
        "print(y_train.shape)\n",
        "print(X_test.shape)"
      ],
      "metadata": {
        "colab": {
          "base_uri": "https://localhost:8080/"
        },
        "id": "NfeSd-aDXTcN",
        "outputId": "000d175e-817c-4358-dcd0-5254229fa269"
      },
      "execution_count": null,
      "outputs": [
        {
          "output_type": "stream",
          "name": "stdout",
          "text": [
            "(26304, 12)\n",
            "(26304, 1)\n",
            "(8760, 12)\n"
          ]
        }
      ]
    },
    {
      "cell_type": "code",
      "source": [
        "# Train Data를 학습 및 평가용 Train, Val, Test로 분류\n",
        "x = X_train\n",
        "y = y_train"
      ],
      "metadata": {
        "id": "W84l2pJOa6vn"
      },
      "execution_count": null,
      "outputs": []
    },
    {
      "cell_type": "code",
      "source": [
        "# train data\n",
        "x_train = x['2020-01-01':'2021-12-31']\n",
        "y_train = y['2020-01-01':'2021-12-31']\n",
        "\n",
        "x_val = x['2022-01-01':'2022-06-30']\n",
        "y_val = y['2022-01-01':'2022-06-30']\n",
        "\n",
        "x_test = x['2022-07-01':'2022-12-31']\n",
        "y_test = y['2022-07-01':'2022-12-31']\n"
      ],
      "metadata": {
        "id": "imrP3J9tbEeq"
      },
      "execution_count": null,
      "outputs": []
    },
    {
      "cell_type": "code",
      "source": [
        "y_train.shape"
      ],
      "metadata": {
        "colab": {
          "base_uri": "https://localhost:8080/"
        },
        "id": "9inFLVwGg4lg",
        "outputId": "d9e73321-57e4-4839-b46a-f451b46b100c"
      },
      "execution_count": null,
      "outputs": [
        {
          "output_type": "execute_result",
          "data": {
            "text/plain": [
              "(26304, 1)"
            ]
          },
          "metadata": {},
          "execution_count": 105
        }
      ]
    },
    {
      "cell_type": "code",
      "source": [
        "X_train.head()"
      ],
      "metadata": {
        "colab": {
          "base_uri": "https://localhost:8080/",
          "height": 431
        },
        "id": "sJfShHvXhRqh",
        "outputId": "235bfade-34a1-483d-a9df-546b1fc92405"
      },
      "execution_count": null,
      "outputs": [
        {
          "output_type": "execute_result",
          "data": {
            "text/plain": [
              "                     mean_c_nph_hm  mean_c_nph_ws_10m  mean_c_nph_rn_60m  \\\n",
              "e_tm                                                                       \n",
              "2020-01-01 01:00:00         0.5531             0.0983             0.0000   \n",
              "2020-01-01 02:00:00         0.5545             0.0749             0.0000   \n",
              "2020-01-01 03:00:00         0.5693             0.0683             0.0000   \n",
              "2020-01-01 04:00:00         0.5944             0.0641             0.0000   \n",
              "2020-01-01 05:00:00         0.6178             0.0441             0.0000   \n",
              "\n",
              "                     mean_pca_feature  e_weekday_0  e_weekday_1  e_weekday_2  \\\n",
              "e_tm                                                                           \n",
              "2020-01-01 01:00:00            0.7829            0            0            1   \n",
              "2020-01-01 02:00:00            0.7877            0            0            1   \n",
              "2020-01-01 03:00:00            0.7687            0            0            1   \n",
              "2020-01-01 04:00:00            0.7689            0            0            1   \n",
              "2020-01-01 05:00:00            0.7551            0            0            1   \n",
              "\n",
              "                     e_weekday_3  e_weekday_4  e_weekday_5  e_weekday_6  \\\n",
              "e_tm                                                                      \n",
              "2020-01-01 01:00:00            0            0            0            0   \n",
              "2020-01-01 02:00:00            0            0            0            0   \n",
              "2020-01-01 03:00:00            0            0            0            0   \n",
              "2020-01-01 04:00:00            0            0            0            0   \n",
              "2020-01-01 05:00:00            0            0            0            0   \n",
              "\n",
              "                     e_weekname  \n",
              "e_tm                             \n",
              "2020-01-01 01:00:00           0  \n",
              "2020-01-01 02:00:00           0  \n",
              "2020-01-01 03:00:00           0  \n",
              "2020-01-01 04:00:00           0  \n",
              "2020-01-01 05:00:00           0  "
            ],
            "text/html": [
              "\n",
              "  <div id=\"df-40fb6476-8f76-4a56-83b4-8a98c470d17c\" class=\"colab-df-container\">\n",
              "    <div>\n",
              "<style scoped>\n",
              "    .dataframe tbody tr th:only-of-type {\n",
              "        vertical-align: middle;\n",
              "    }\n",
              "\n",
              "    .dataframe tbody tr th {\n",
              "        vertical-align: top;\n",
              "    }\n",
              "\n",
              "    .dataframe thead th {\n",
              "        text-align: right;\n",
              "    }\n",
              "</style>\n",
              "<table border=\"1\" class=\"dataframe\">\n",
              "  <thead>\n",
              "    <tr style=\"text-align: right;\">\n",
              "      <th></th>\n",
              "      <th>mean_c_nph_hm</th>\n",
              "      <th>mean_c_nph_ws_10m</th>\n",
              "      <th>mean_c_nph_rn_60m</th>\n",
              "      <th>mean_pca_feature</th>\n",
              "      <th>e_weekday_0</th>\n",
              "      <th>e_weekday_1</th>\n",
              "      <th>e_weekday_2</th>\n",
              "      <th>e_weekday_3</th>\n",
              "      <th>e_weekday_4</th>\n",
              "      <th>e_weekday_5</th>\n",
              "      <th>e_weekday_6</th>\n",
              "      <th>e_weekname</th>\n",
              "    </tr>\n",
              "    <tr>\n",
              "      <th>e_tm</th>\n",
              "      <th></th>\n",
              "      <th></th>\n",
              "      <th></th>\n",
              "      <th></th>\n",
              "      <th></th>\n",
              "      <th></th>\n",
              "      <th></th>\n",
              "      <th></th>\n",
              "      <th></th>\n",
              "      <th></th>\n",
              "      <th></th>\n",
              "      <th></th>\n",
              "    </tr>\n",
              "  </thead>\n",
              "  <tbody>\n",
              "    <tr>\n",
              "      <th>2020-01-01 01:00:00</th>\n",
              "      <td>0.5531</td>\n",
              "      <td>0.0983</td>\n",
              "      <td>0.0000</td>\n",
              "      <td>0.7829</td>\n",
              "      <td>0</td>\n",
              "      <td>0</td>\n",
              "      <td>1</td>\n",
              "      <td>0</td>\n",
              "      <td>0</td>\n",
              "      <td>0</td>\n",
              "      <td>0</td>\n",
              "      <td>0</td>\n",
              "    </tr>\n",
              "    <tr>\n",
              "      <th>2020-01-01 02:00:00</th>\n",
              "      <td>0.5545</td>\n",
              "      <td>0.0749</td>\n",
              "      <td>0.0000</td>\n",
              "      <td>0.7877</td>\n",
              "      <td>0</td>\n",
              "      <td>0</td>\n",
              "      <td>1</td>\n",
              "      <td>0</td>\n",
              "      <td>0</td>\n",
              "      <td>0</td>\n",
              "      <td>0</td>\n",
              "      <td>0</td>\n",
              "    </tr>\n",
              "    <tr>\n",
              "      <th>2020-01-01 03:00:00</th>\n",
              "      <td>0.5693</td>\n",
              "      <td>0.0683</td>\n",
              "      <td>0.0000</td>\n",
              "      <td>0.7687</td>\n",
              "      <td>0</td>\n",
              "      <td>0</td>\n",
              "      <td>1</td>\n",
              "      <td>0</td>\n",
              "      <td>0</td>\n",
              "      <td>0</td>\n",
              "      <td>0</td>\n",
              "      <td>0</td>\n",
              "    </tr>\n",
              "    <tr>\n",
              "      <th>2020-01-01 04:00:00</th>\n",
              "      <td>0.5944</td>\n",
              "      <td>0.0641</td>\n",
              "      <td>0.0000</td>\n",
              "      <td>0.7689</td>\n",
              "      <td>0</td>\n",
              "      <td>0</td>\n",
              "      <td>1</td>\n",
              "      <td>0</td>\n",
              "      <td>0</td>\n",
              "      <td>0</td>\n",
              "      <td>0</td>\n",
              "      <td>0</td>\n",
              "    </tr>\n",
              "    <tr>\n",
              "      <th>2020-01-01 05:00:00</th>\n",
              "      <td>0.6178</td>\n",
              "      <td>0.0441</td>\n",
              "      <td>0.0000</td>\n",
              "      <td>0.7551</td>\n",
              "      <td>0</td>\n",
              "      <td>0</td>\n",
              "      <td>1</td>\n",
              "      <td>0</td>\n",
              "      <td>0</td>\n",
              "      <td>0</td>\n",
              "      <td>0</td>\n",
              "      <td>0</td>\n",
              "    </tr>\n",
              "  </tbody>\n",
              "</table>\n",
              "</div>\n",
              "    <div class=\"colab-df-buttons\">\n",
              "\n",
              "  <div class=\"colab-df-container\">\n",
              "    <button class=\"colab-df-convert\" onclick=\"convertToInteractive('df-40fb6476-8f76-4a56-83b4-8a98c470d17c')\"\n",
              "            title=\"Convert this dataframe to an interactive table.\"\n",
              "            style=\"display:none;\">\n",
              "\n",
              "  <svg xmlns=\"http://www.w3.org/2000/svg\" height=\"24px\" viewBox=\"0 -960 960 960\">\n",
              "    <path d=\"M120-120v-720h720v720H120Zm60-500h600v-160H180v160Zm220 220h160v-160H400v160Zm0 220h160v-160H400v160ZM180-400h160v-160H180v160Zm440 0h160v-160H620v160ZM180-180h160v-160H180v160Zm440 0h160v-160H620v160Z\"/>\n",
              "  </svg>\n",
              "    </button>\n",
              "\n",
              "  <style>\n",
              "    .colab-df-container {\n",
              "      display:flex;\n",
              "      gap: 12px;\n",
              "    }\n",
              "\n",
              "    .colab-df-convert {\n",
              "      background-color: #E8F0FE;\n",
              "      border: none;\n",
              "      border-radius: 50%;\n",
              "      cursor: pointer;\n",
              "      display: none;\n",
              "      fill: #1967D2;\n",
              "      height: 32px;\n",
              "      padding: 0 0 0 0;\n",
              "      width: 32px;\n",
              "    }\n",
              "\n",
              "    .colab-df-convert:hover {\n",
              "      background-color: #E2EBFA;\n",
              "      box-shadow: 0px 1px 2px rgba(60, 64, 67, 0.3), 0px 1px 3px 1px rgba(60, 64, 67, 0.15);\n",
              "      fill: #174EA6;\n",
              "    }\n",
              "\n",
              "    .colab-df-buttons div {\n",
              "      margin-bottom: 4px;\n",
              "    }\n",
              "\n",
              "    [theme=dark] .colab-df-convert {\n",
              "      background-color: #3B4455;\n",
              "      fill: #D2E3FC;\n",
              "    }\n",
              "\n",
              "    [theme=dark] .colab-df-convert:hover {\n",
              "      background-color: #434B5C;\n",
              "      box-shadow: 0px 1px 3px 1px rgba(0, 0, 0, 0.15);\n",
              "      filter: drop-shadow(0px 1px 2px rgba(0, 0, 0, 0.3));\n",
              "      fill: #FFFFFF;\n",
              "    }\n",
              "  </style>\n",
              "\n",
              "    <script>\n",
              "      const buttonEl =\n",
              "        document.querySelector('#df-40fb6476-8f76-4a56-83b4-8a98c470d17c button.colab-df-convert');\n",
              "      buttonEl.style.display =\n",
              "        google.colab.kernel.accessAllowed ? 'block' : 'none';\n",
              "\n",
              "      async function convertToInteractive(key) {\n",
              "        const element = document.querySelector('#df-40fb6476-8f76-4a56-83b4-8a98c470d17c');\n",
              "        const dataTable =\n",
              "          await google.colab.kernel.invokeFunction('convertToInteractive',\n",
              "                                                    [key], {});\n",
              "        if (!dataTable) return;\n",
              "\n",
              "        const docLinkHtml = 'Like what you see? Visit the ' +\n",
              "          '<a target=\"_blank\" href=https://colab.research.google.com/notebooks/data_table.ipynb>data table notebook</a>'\n",
              "          + ' to learn more about interactive tables.';\n",
              "        element.innerHTML = '';\n",
              "        dataTable['output_type'] = 'display_data';\n",
              "        await google.colab.output.renderOutput(dataTable, element);\n",
              "        const docLink = document.createElement('div');\n",
              "        docLink.innerHTML = docLinkHtml;\n",
              "        element.appendChild(docLink);\n",
              "      }\n",
              "    </script>\n",
              "  </div>\n",
              "\n",
              "\n",
              "<div id=\"df-1e9f9422-4f5e-4849-bbcf-3f2a26844bde\">\n",
              "  <button class=\"colab-df-quickchart\" onclick=\"quickchart('df-1e9f9422-4f5e-4849-bbcf-3f2a26844bde')\"\n",
              "            title=\"Suggest charts\"\n",
              "            style=\"display:none;\">\n",
              "\n",
              "<svg xmlns=\"http://www.w3.org/2000/svg\" height=\"24px\"viewBox=\"0 0 24 24\"\n",
              "     width=\"24px\">\n",
              "    <g>\n",
              "        <path d=\"M19 3H5c-1.1 0-2 .9-2 2v14c0 1.1.9 2 2 2h14c1.1 0 2-.9 2-2V5c0-1.1-.9-2-2-2zM9 17H7v-7h2v7zm4 0h-2V7h2v10zm4 0h-2v-4h2v4z\"/>\n",
              "    </g>\n",
              "</svg>\n",
              "  </button>\n",
              "\n",
              "<style>\n",
              "  .colab-df-quickchart {\n",
              "      --bg-color: #E8F0FE;\n",
              "      --fill-color: #1967D2;\n",
              "      --hover-bg-color: #E2EBFA;\n",
              "      --hover-fill-color: #174EA6;\n",
              "      --disabled-fill-color: #AAA;\n",
              "      --disabled-bg-color: #DDD;\n",
              "  }\n",
              "\n",
              "  [theme=dark] .colab-df-quickchart {\n",
              "      --bg-color: #3B4455;\n",
              "      --fill-color: #D2E3FC;\n",
              "      --hover-bg-color: #434B5C;\n",
              "      --hover-fill-color: #FFFFFF;\n",
              "      --disabled-bg-color: #3B4455;\n",
              "      --disabled-fill-color: #666;\n",
              "  }\n",
              "\n",
              "  .colab-df-quickchart {\n",
              "    background-color: var(--bg-color);\n",
              "    border: none;\n",
              "    border-radius: 50%;\n",
              "    cursor: pointer;\n",
              "    display: none;\n",
              "    fill: var(--fill-color);\n",
              "    height: 32px;\n",
              "    padding: 0;\n",
              "    width: 32px;\n",
              "  }\n",
              "\n",
              "  .colab-df-quickchart:hover {\n",
              "    background-color: var(--hover-bg-color);\n",
              "    box-shadow: 0 1px 2px rgba(60, 64, 67, 0.3), 0 1px 3px 1px rgba(60, 64, 67, 0.15);\n",
              "    fill: var(--button-hover-fill-color);\n",
              "  }\n",
              "\n",
              "  .colab-df-quickchart-complete:disabled,\n",
              "  .colab-df-quickchart-complete:disabled:hover {\n",
              "    background-color: var(--disabled-bg-color);\n",
              "    fill: var(--disabled-fill-color);\n",
              "    box-shadow: none;\n",
              "  }\n",
              "\n",
              "  .colab-df-spinner {\n",
              "    border: 2px solid var(--fill-color);\n",
              "    border-color: transparent;\n",
              "    border-bottom-color: var(--fill-color);\n",
              "    animation:\n",
              "      spin 1s steps(1) infinite;\n",
              "  }\n",
              "\n",
              "  @keyframes spin {\n",
              "    0% {\n",
              "      border-color: transparent;\n",
              "      border-bottom-color: var(--fill-color);\n",
              "      border-left-color: var(--fill-color);\n",
              "    }\n",
              "    20% {\n",
              "      border-color: transparent;\n",
              "      border-left-color: var(--fill-color);\n",
              "      border-top-color: var(--fill-color);\n",
              "    }\n",
              "    30% {\n",
              "      border-color: transparent;\n",
              "      border-left-color: var(--fill-color);\n",
              "      border-top-color: var(--fill-color);\n",
              "      border-right-color: var(--fill-color);\n",
              "    }\n",
              "    40% {\n",
              "      border-color: transparent;\n",
              "      border-right-color: var(--fill-color);\n",
              "      border-top-color: var(--fill-color);\n",
              "    }\n",
              "    60% {\n",
              "      border-color: transparent;\n",
              "      border-right-color: var(--fill-color);\n",
              "    }\n",
              "    80% {\n",
              "      border-color: transparent;\n",
              "      border-right-color: var(--fill-color);\n",
              "      border-bottom-color: var(--fill-color);\n",
              "    }\n",
              "    90% {\n",
              "      border-color: transparent;\n",
              "      border-bottom-color: var(--fill-color);\n",
              "    }\n",
              "  }\n",
              "</style>\n",
              "\n",
              "  <script>\n",
              "    async function quickchart(key) {\n",
              "      const quickchartButtonEl =\n",
              "        document.querySelector('#' + key + ' button');\n",
              "      quickchartButtonEl.disabled = true;  // To prevent multiple clicks.\n",
              "      quickchartButtonEl.classList.add('colab-df-spinner');\n",
              "      try {\n",
              "        const charts = await google.colab.kernel.invokeFunction(\n",
              "            'suggestCharts', [key], {});\n",
              "      } catch (error) {\n",
              "        console.error('Error during call to suggestCharts:', error);\n",
              "      }\n",
              "      quickchartButtonEl.classList.remove('colab-df-spinner');\n",
              "      quickchartButtonEl.classList.add('colab-df-quickchart-complete');\n",
              "    }\n",
              "    (() => {\n",
              "      let quickchartButtonEl =\n",
              "        document.querySelector('#df-1e9f9422-4f5e-4849-bbcf-3f2a26844bde button');\n",
              "      quickchartButtonEl.style.display =\n",
              "        google.colab.kernel.accessAllowed ? 'block' : 'none';\n",
              "    })();\n",
              "  </script>\n",
              "</div>\n",
              "\n",
              "    </div>\n",
              "  </div>\n"
            ],
            "application/vnd.google.colaboratory.intrinsic+json": {
              "type": "dataframe",
              "variable_name": "X_train",
              "summary": "{\n  \"name\": \"X_train\",\n  \"rows\": 26304,\n  \"fields\": [\n    {\n      \"column\": \"e_tm\",\n      \"properties\": {\n        \"dtype\": \"date\",\n        \"min\": \"2020-01-01 01:00:00\",\n        \"max\": \"2023-01-01 00:00:00\",\n        \"num_unique_values\": 26304,\n        \"samples\": [\n          \"2020-08-05 04:00:00\",\n          \"2022-12-29 00:00:00\",\n          \"2020-04-24 17:00:00\"\n        ],\n        \"semantic_type\": \"\",\n        \"description\": \"\"\n      }\n    },\n    {\n      \"column\": \"mean_c_nph_hm\",\n      \"properties\": {\n        \"dtype\": \"number\",\n        \"std\": 0.2045099302734177,\n        \"min\": 0.0,\n        \"max\": 1.0,\n        \"num_unique_values\": 9514,\n        \"samples\": [\n          0.8815830476784045,\n          0.3187909005920849,\n          0.6889996883764417\n        ],\n        \"semantic_type\": \"\",\n        \"description\": \"\"\n      }\n    },\n    {\n      \"column\": \"mean_c_nph_ws_10m\",\n      \"properties\": {\n        \"dtype\": \"number\",\n        \"std\": 0.13240613832018494,\n        \"min\": 0.0,\n        \"max\": 1.0,\n        \"num_unique_values\": 2196,\n        \"samples\": [\n          0.24895920066611157,\n          0.5695253955037468,\n          0.16319733555370522\n        ],\n        \"semantic_type\": \"\",\n        \"description\": \"\"\n      }\n    },\n    {\n      \"column\": \"mean_c_nph_rn_60m\",\n      \"properties\": {\n        \"dtype\": \"number\",\n        \"std\": 0.03562774022428452,\n        \"min\": 0.0,\n        \"max\": 1.0,\n        \"num_unique_values\": 568,\n        \"samples\": [\n          0.038306451612903226,\n          0.0450268817204301,\n          0.07930107526881719\n        ],\n        \"semantic_type\": \"\",\n        \"description\": \"\"\n      }\n    },\n    {\n      \"column\": \"mean_pca_feature\",\n      \"properties\": {\n        \"dtype\": \"number\",\n        \"std\": 0.20464219819542154,\n        \"min\": 0.0,\n        \"max\": 0.9999999999999999,\n        \"num_unique_values\": 26169,\n        \"samples\": [\n          0.580025905180128,\n          0.3595341495190443,\n          0.618895167635221\n        ],\n        \"semantic_type\": \"\",\n        \"description\": \"\"\n      }\n    },\n    {\n      \"column\": \"e_weekday_0\",\n      \"properties\": {\n        \"dtype\": \"number\",\n        \"std\": 0,\n        \"min\": 0,\n        \"max\": 1,\n        \"num_unique_values\": 2,\n        \"samples\": [\n          1,\n          0\n        ],\n        \"semantic_type\": \"\",\n        \"description\": \"\"\n      }\n    },\n    {\n      \"column\": \"e_weekday_1\",\n      \"properties\": {\n        \"dtype\": \"number\",\n        \"std\": 0,\n        \"min\": 0,\n        \"max\": 1,\n        \"num_unique_values\": 2,\n        \"samples\": [\n          1,\n          0\n        ],\n        \"semantic_type\": \"\",\n        \"description\": \"\"\n      }\n    },\n    {\n      \"column\": \"e_weekday_2\",\n      \"properties\": {\n        \"dtype\": \"number\",\n        \"std\": 0,\n        \"min\": 0,\n        \"max\": 1,\n        \"num_unique_values\": 2,\n        \"samples\": [\n          0,\n          1\n        ],\n        \"semantic_type\": \"\",\n        \"description\": \"\"\n      }\n    },\n    {\n      \"column\": \"e_weekday_3\",\n      \"properties\": {\n        \"dtype\": \"number\",\n        \"std\": 0,\n        \"min\": 0,\n        \"max\": 1,\n        \"num_unique_values\": 2,\n        \"samples\": [\n          1,\n          0\n        ],\n        \"semantic_type\": \"\",\n        \"description\": \"\"\n      }\n    },\n    {\n      \"column\": \"e_weekday_4\",\n      \"properties\": {\n        \"dtype\": \"number\",\n        \"std\": 0,\n        \"min\": 0,\n        \"max\": 1,\n        \"num_unique_values\": 2,\n        \"samples\": [\n          1,\n          0\n        ],\n        \"semantic_type\": \"\",\n        \"description\": \"\"\n      }\n    },\n    {\n      \"column\": \"e_weekday_5\",\n      \"properties\": {\n        \"dtype\": \"number\",\n        \"std\": 0,\n        \"min\": 0,\n        \"max\": 1,\n        \"num_unique_values\": 2,\n        \"samples\": [\n          1,\n          0\n        ],\n        \"semantic_type\": \"\",\n        \"description\": \"\"\n      }\n    },\n    {\n      \"column\": \"e_weekday_6\",\n      \"properties\": {\n        \"dtype\": \"number\",\n        \"std\": 0,\n        \"min\": 0,\n        \"max\": 1,\n        \"num_unique_values\": 2,\n        \"samples\": [\n          1,\n          0\n        ],\n        \"semantic_type\": \"\",\n        \"description\": \"\"\n      }\n    },\n    {\n      \"column\": \"e_weekname\",\n      \"properties\": {\n        \"dtype\": \"number\",\n        \"std\": 0,\n        \"min\": 0,\n        \"max\": 1,\n        \"num_unique_values\": 2,\n        \"samples\": [\n          1,\n          0\n        ],\n        \"semantic_type\": \"\",\n        \"description\": \"\"\n      }\n    }\n  ]\n}"
            }
          },
          "metadata": {},
          "execution_count": 106
        }
      ]
    },
    {
      "cell_type": "code",
      "source": [
        "y_train.head()"
      ],
      "metadata": {
        "colab": {
          "base_uri": "https://localhost:8080/",
          "height": 238
        },
        "id": "9PVqbfAFtjUH",
        "outputId": "3a0537f0-17ea-4b5a-fe8e-472d616673a1"
      },
      "execution_count": null,
      "outputs": [
        {
          "output_type": "execute_result",
          "data": {
            "text/plain": [
              "                     mean_e_elec\n",
              "e_tm                            \n",
              "2020-01-01 01:00:00       0.2343\n",
              "2020-01-01 02:00:00       0.1891\n",
              "2020-01-01 03:00:00       0.1370\n",
              "2020-01-01 04:00:00       0.1001\n",
              "2020-01-01 05:00:00       0.0861"
            ],
            "text/html": [
              "\n",
              "  <div id=\"df-855d5c55-657d-43fb-ab18-c00d75eae860\" class=\"colab-df-container\">\n",
              "    <div>\n",
              "<style scoped>\n",
              "    .dataframe tbody tr th:only-of-type {\n",
              "        vertical-align: middle;\n",
              "    }\n",
              "\n",
              "    .dataframe tbody tr th {\n",
              "        vertical-align: top;\n",
              "    }\n",
              "\n",
              "    .dataframe thead th {\n",
              "        text-align: right;\n",
              "    }\n",
              "</style>\n",
              "<table border=\"1\" class=\"dataframe\">\n",
              "  <thead>\n",
              "    <tr style=\"text-align: right;\">\n",
              "      <th></th>\n",
              "      <th>mean_e_elec</th>\n",
              "    </tr>\n",
              "    <tr>\n",
              "      <th>e_tm</th>\n",
              "      <th></th>\n",
              "    </tr>\n",
              "  </thead>\n",
              "  <tbody>\n",
              "    <tr>\n",
              "      <th>2020-01-01 01:00:00</th>\n",
              "      <td>0.2343</td>\n",
              "    </tr>\n",
              "    <tr>\n",
              "      <th>2020-01-01 02:00:00</th>\n",
              "      <td>0.1891</td>\n",
              "    </tr>\n",
              "    <tr>\n",
              "      <th>2020-01-01 03:00:00</th>\n",
              "      <td>0.1370</td>\n",
              "    </tr>\n",
              "    <tr>\n",
              "      <th>2020-01-01 04:00:00</th>\n",
              "      <td>0.1001</td>\n",
              "    </tr>\n",
              "    <tr>\n",
              "      <th>2020-01-01 05:00:00</th>\n",
              "      <td>0.0861</td>\n",
              "    </tr>\n",
              "  </tbody>\n",
              "</table>\n",
              "</div>\n",
              "    <div class=\"colab-df-buttons\">\n",
              "\n",
              "  <div class=\"colab-df-container\">\n",
              "    <button class=\"colab-df-convert\" onclick=\"convertToInteractive('df-855d5c55-657d-43fb-ab18-c00d75eae860')\"\n",
              "            title=\"Convert this dataframe to an interactive table.\"\n",
              "            style=\"display:none;\">\n",
              "\n",
              "  <svg xmlns=\"http://www.w3.org/2000/svg\" height=\"24px\" viewBox=\"0 -960 960 960\">\n",
              "    <path d=\"M120-120v-720h720v720H120Zm60-500h600v-160H180v160Zm220 220h160v-160H400v160Zm0 220h160v-160H400v160ZM180-400h160v-160H180v160Zm440 0h160v-160H620v160ZM180-180h160v-160H180v160Zm440 0h160v-160H620v160Z\"/>\n",
              "  </svg>\n",
              "    </button>\n",
              "\n",
              "  <style>\n",
              "    .colab-df-container {\n",
              "      display:flex;\n",
              "      gap: 12px;\n",
              "    }\n",
              "\n",
              "    .colab-df-convert {\n",
              "      background-color: #E8F0FE;\n",
              "      border: none;\n",
              "      border-radius: 50%;\n",
              "      cursor: pointer;\n",
              "      display: none;\n",
              "      fill: #1967D2;\n",
              "      height: 32px;\n",
              "      padding: 0 0 0 0;\n",
              "      width: 32px;\n",
              "    }\n",
              "\n",
              "    .colab-df-convert:hover {\n",
              "      background-color: #E2EBFA;\n",
              "      box-shadow: 0px 1px 2px rgba(60, 64, 67, 0.3), 0px 1px 3px 1px rgba(60, 64, 67, 0.15);\n",
              "      fill: #174EA6;\n",
              "    }\n",
              "\n",
              "    .colab-df-buttons div {\n",
              "      margin-bottom: 4px;\n",
              "    }\n",
              "\n",
              "    [theme=dark] .colab-df-convert {\n",
              "      background-color: #3B4455;\n",
              "      fill: #D2E3FC;\n",
              "    }\n",
              "\n",
              "    [theme=dark] .colab-df-convert:hover {\n",
              "      background-color: #434B5C;\n",
              "      box-shadow: 0px 1px 3px 1px rgba(0, 0, 0, 0.15);\n",
              "      filter: drop-shadow(0px 1px 2px rgba(0, 0, 0, 0.3));\n",
              "      fill: #FFFFFF;\n",
              "    }\n",
              "  </style>\n",
              "\n",
              "    <script>\n",
              "      const buttonEl =\n",
              "        document.querySelector('#df-855d5c55-657d-43fb-ab18-c00d75eae860 button.colab-df-convert');\n",
              "      buttonEl.style.display =\n",
              "        google.colab.kernel.accessAllowed ? 'block' : 'none';\n",
              "\n",
              "      async function convertToInteractive(key) {\n",
              "        const element = document.querySelector('#df-855d5c55-657d-43fb-ab18-c00d75eae860');\n",
              "        const dataTable =\n",
              "          await google.colab.kernel.invokeFunction('convertToInteractive',\n",
              "                                                    [key], {});\n",
              "        if (!dataTable) return;\n",
              "\n",
              "        const docLinkHtml = 'Like what you see? Visit the ' +\n",
              "          '<a target=\"_blank\" href=https://colab.research.google.com/notebooks/data_table.ipynb>data table notebook</a>'\n",
              "          + ' to learn more about interactive tables.';\n",
              "        element.innerHTML = '';\n",
              "        dataTable['output_type'] = 'display_data';\n",
              "        await google.colab.output.renderOutput(dataTable, element);\n",
              "        const docLink = document.createElement('div');\n",
              "        docLink.innerHTML = docLinkHtml;\n",
              "        element.appendChild(docLink);\n",
              "      }\n",
              "    </script>\n",
              "  </div>\n",
              "\n",
              "\n",
              "<div id=\"df-b7ab376d-111d-4cda-a42e-2938cd10c860\">\n",
              "  <button class=\"colab-df-quickchart\" onclick=\"quickchart('df-b7ab376d-111d-4cda-a42e-2938cd10c860')\"\n",
              "            title=\"Suggest charts\"\n",
              "            style=\"display:none;\">\n",
              "\n",
              "<svg xmlns=\"http://www.w3.org/2000/svg\" height=\"24px\"viewBox=\"0 0 24 24\"\n",
              "     width=\"24px\">\n",
              "    <g>\n",
              "        <path d=\"M19 3H5c-1.1 0-2 .9-2 2v14c0 1.1.9 2 2 2h14c1.1 0 2-.9 2-2V5c0-1.1-.9-2-2-2zM9 17H7v-7h2v7zm4 0h-2V7h2v10zm4 0h-2v-4h2v4z\"/>\n",
              "    </g>\n",
              "</svg>\n",
              "  </button>\n",
              "\n",
              "<style>\n",
              "  .colab-df-quickchart {\n",
              "      --bg-color: #E8F0FE;\n",
              "      --fill-color: #1967D2;\n",
              "      --hover-bg-color: #E2EBFA;\n",
              "      --hover-fill-color: #174EA6;\n",
              "      --disabled-fill-color: #AAA;\n",
              "      --disabled-bg-color: #DDD;\n",
              "  }\n",
              "\n",
              "  [theme=dark] .colab-df-quickchart {\n",
              "      --bg-color: #3B4455;\n",
              "      --fill-color: #D2E3FC;\n",
              "      --hover-bg-color: #434B5C;\n",
              "      --hover-fill-color: #FFFFFF;\n",
              "      --disabled-bg-color: #3B4455;\n",
              "      --disabled-fill-color: #666;\n",
              "  }\n",
              "\n",
              "  .colab-df-quickchart {\n",
              "    background-color: var(--bg-color);\n",
              "    border: none;\n",
              "    border-radius: 50%;\n",
              "    cursor: pointer;\n",
              "    display: none;\n",
              "    fill: var(--fill-color);\n",
              "    height: 32px;\n",
              "    padding: 0;\n",
              "    width: 32px;\n",
              "  }\n",
              "\n",
              "  .colab-df-quickchart:hover {\n",
              "    background-color: var(--hover-bg-color);\n",
              "    box-shadow: 0 1px 2px rgba(60, 64, 67, 0.3), 0 1px 3px 1px rgba(60, 64, 67, 0.15);\n",
              "    fill: var(--button-hover-fill-color);\n",
              "  }\n",
              "\n",
              "  .colab-df-quickchart-complete:disabled,\n",
              "  .colab-df-quickchart-complete:disabled:hover {\n",
              "    background-color: var(--disabled-bg-color);\n",
              "    fill: var(--disabled-fill-color);\n",
              "    box-shadow: none;\n",
              "  }\n",
              "\n",
              "  .colab-df-spinner {\n",
              "    border: 2px solid var(--fill-color);\n",
              "    border-color: transparent;\n",
              "    border-bottom-color: var(--fill-color);\n",
              "    animation:\n",
              "      spin 1s steps(1) infinite;\n",
              "  }\n",
              "\n",
              "  @keyframes spin {\n",
              "    0% {\n",
              "      border-color: transparent;\n",
              "      border-bottom-color: var(--fill-color);\n",
              "      border-left-color: var(--fill-color);\n",
              "    }\n",
              "    20% {\n",
              "      border-color: transparent;\n",
              "      border-left-color: var(--fill-color);\n",
              "      border-top-color: var(--fill-color);\n",
              "    }\n",
              "    30% {\n",
              "      border-color: transparent;\n",
              "      border-left-color: var(--fill-color);\n",
              "      border-top-color: var(--fill-color);\n",
              "      border-right-color: var(--fill-color);\n",
              "    }\n",
              "    40% {\n",
              "      border-color: transparent;\n",
              "      border-right-color: var(--fill-color);\n",
              "      border-top-color: var(--fill-color);\n",
              "    }\n",
              "    60% {\n",
              "      border-color: transparent;\n",
              "      border-right-color: var(--fill-color);\n",
              "    }\n",
              "    80% {\n",
              "      border-color: transparent;\n",
              "      border-right-color: var(--fill-color);\n",
              "      border-bottom-color: var(--fill-color);\n",
              "    }\n",
              "    90% {\n",
              "      border-color: transparent;\n",
              "      border-bottom-color: var(--fill-color);\n",
              "    }\n",
              "  }\n",
              "</style>\n",
              "\n",
              "  <script>\n",
              "    async function quickchart(key) {\n",
              "      const quickchartButtonEl =\n",
              "        document.querySelector('#' + key + ' button');\n",
              "      quickchartButtonEl.disabled = true;  // To prevent multiple clicks.\n",
              "      quickchartButtonEl.classList.add('colab-df-spinner');\n",
              "      try {\n",
              "        const charts = await google.colab.kernel.invokeFunction(\n",
              "            'suggestCharts', [key], {});\n",
              "      } catch (error) {\n",
              "        console.error('Error during call to suggestCharts:', error);\n",
              "      }\n",
              "      quickchartButtonEl.classList.remove('colab-df-spinner');\n",
              "      quickchartButtonEl.classList.add('colab-df-quickchart-complete');\n",
              "    }\n",
              "    (() => {\n",
              "      let quickchartButtonEl =\n",
              "        document.querySelector('#df-b7ab376d-111d-4cda-a42e-2938cd10c860 button');\n",
              "      quickchartButtonEl.style.display =\n",
              "        google.colab.kernel.accessAllowed ? 'block' : 'none';\n",
              "    })();\n",
              "  </script>\n",
              "</div>\n",
              "\n",
              "    </div>\n",
              "  </div>\n"
            ],
            "application/vnd.google.colaboratory.intrinsic+json": {
              "type": "dataframe",
              "variable_name": "y_train",
              "summary": "{\n  \"name\": \"y_train\",\n  \"rows\": 26304,\n  \"fields\": [\n    {\n      \"column\": \"e_tm\",\n      \"properties\": {\n        \"dtype\": \"date\",\n        \"min\": \"2020-01-01 01:00:00\",\n        \"max\": \"2023-01-01 00:00:00\",\n        \"num_unique_values\": 26304,\n        \"samples\": [\n          \"2020-08-05 04:00:00\",\n          \"2022-12-29 00:00:00\",\n          \"2020-04-24 17:00:00\"\n        ],\n        \"semantic_type\": \"\",\n        \"description\": \"\"\n      }\n    },\n    {\n      \"column\": \"mean_e_elec\",\n      \"properties\": {\n        \"dtype\": \"number\",\n        \"std\": 0.15463054847775873,\n        \"min\": 0.0,\n        \"max\": 0.9999999999999999,\n        \"num_unique_values\": 23611,\n        \"samples\": [\n          0.2592764250138351,\n          0.182885998893193,\n          0.5937050359712229\n        ],\n        \"semantic_type\": \"\",\n        \"description\": \"\"\n      }\n    }\n  ]\n}"
            }
          },
          "metadata": {},
          "execution_count": 107
        }
      ]
    },
    {
      "cell_type": "code",
      "source": [
        "X_test.head()"
      ],
      "metadata": {
        "colab": {
          "base_uri": "https://localhost:8080/",
          "height": 431
        },
        "id": "ijZARwedtjZE",
        "outputId": "f145f6d2-1250-4113-8d27-68131fe67466"
      },
      "execution_count": null,
      "outputs": [
        {
          "output_type": "execute_result",
          "data": {
            "text/plain": [
              "                     mean_c_nph_hm  mean_c_nph_ws_10m  mean_c_nph_rn_60m  \\\n",
              "e_tm                                                                       \n",
              "2023-01-01 01:00:00         0.6683             0.2430             0.0000   \n",
              "2023-01-01 02:00:00         0.6534             0.2613             0.0000   \n",
              "2023-01-01 03:00:00         0.6449             0.2690             0.0000   \n",
              "2023-01-01 04:00:00         0.6946             0.2179             0.0000   \n",
              "2023-01-01 05:00:00         0.7118             0.2536             0.0000   \n",
              "\n",
              "                     mean_pca_feature  e_weekday_0  e_weekday_1  e_weekday_2  \\\n",
              "e_tm                                                                           \n",
              "2023-01-01 01:00:00            0.6948            0            0            0   \n",
              "2023-01-01 02:00:00            0.6993            0            0            0   \n",
              "2023-01-01 03:00:00            0.6931            0            0            0   \n",
              "2023-01-01 04:00:00            0.7004            0            0            0   \n",
              "2023-01-01 05:00:00            0.7097            0            0            0   \n",
              "\n",
              "                     e_weekday_3  e_weekday_4  e_weekday_5  e_weekday_6  \\\n",
              "e_tm                                                                      \n",
              "2023-01-01 01:00:00            0            0            0            1   \n",
              "2023-01-01 02:00:00            0            0            0            1   \n",
              "2023-01-01 03:00:00            0            0            0            1   \n",
              "2023-01-01 04:00:00            0            0            0            1   \n",
              "2023-01-01 05:00:00            0            0            0            1   \n",
              "\n",
              "                     e_weekname  \n",
              "e_tm                             \n",
              "2023-01-01 01:00:00           1  \n",
              "2023-01-01 02:00:00           1  \n",
              "2023-01-01 03:00:00           1  \n",
              "2023-01-01 04:00:00           1  \n",
              "2023-01-01 05:00:00           1  "
            ],
            "text/html": [
              "\n",
              "  <div id=\"df-2e2f8442-b31c-4f3c-a583-ef44603b7fd8\" class=\"colab-df-container\">\n",
              "    <div>\n",
              "<style scoped>\n",
              "    .dataframe tbody tr th:only-of-type {\n",
              "        vertical-align: middle;\n",
              "    }\n",
              "\n",
              "    .dataframe tbody tr th {\n",
              "        vertical-align: top;\n",
              "    }\n",
              "\n",
              "    .dataframe thead th {\n",
              "        text-align: right;\n",
              "    }\n",
              "</style>\n",
              "<table border=\"1\" class=\"dataframe\">\n",
              "  <thead>\n",
              "    <tr style=\"text-align: right;\">\n",
              "      <th></th>\n",
              "      <th>mean_c_nph_hm</th>\n",
              "      <th>mean_c_nph_ws_10m</th>\n",
              "      <th>mean_c_nph_rn_60m</th>\n",
              "      <th>mean_pca_feature</th>\n",
              "      <th>e_weekday_0</th>\n",
              "      <th>e_weekday_1</th>\n",
              "      <th>e_weekday_2</th>\n",
              "      <th>e_weekday_3</th>\n",
              "      <th>e_weekday_4</th>\n",
              "      <th>e_weekday_5</th>\n",
              "      <th>e_weekday_6</th>\n",
              "      <th>e_weekname</th>\n",
              "    </tr>\n",
              "    <tr>\n",
              "      <th>e_tm</th>\n",
              "      <th></th>\n",
              "      <th></th>\n",
              "      <th></th>\n",
              "      <th></th>\n",
              "      <th></th>\n",
              "      <th></th>\n",
              "      <th></th>\n",
              "      <th></th>\n",
              "      <th></th>\n",
              "      <th></th>\n",
              "      <th></th>\n",
              "      <th></th>\n",
              "    </tr>\n",
              "  </thead>\n",
              "  <tbody>\n",
              "    <tr>\n",
              "      <th>2023-01-01 01:00:00</th>\n",
              "      <td>0.6683</td>\n",
              "      <td>0.2430</td>\n",
              "      <td>0.0000</td>\n",
              "      <td>0.6948</td>\n",
              "      <td>0</td>\n",
              "      <td>0</td>\n",
              "      <td>0</td>\n",
              "      <td>0</td>\n",
              "      <td>0</td>\n",
              "      <td>0</td>\n",
              "      <td>1</td>\n",
              "      <td>1</td>\n",
              "    </tr>\n",
              "    <tr>\n",
              "      <th>2023-01-01 02:00:00</th>\n",
              "      <td>0.6534</td>\n",
              "      <td>0.2613</td>\n",
              "      <td>0.0000</td>\n",
              "      <td>0.6993</td>\n",
              "      <td>0</td>\n",
              "      <td>0</td>\n",
              "      <td>0</td>\n",
              "      <td>0</td>\n",
              "      <td>0</td>\n",
              "      <td>0</td>\n",
              "      <td>1</td>\n",
              "      <td>1</td>\n",
              "    </tr>\n",
              "    <tr>\n",
              "      <th>2023-01-01 03:00:00</th>\n",
              "      <td>0.6449</td>\n",
              "      <td>0.2690</td>\n",
              "      <td>0.0000</td>\n",
              "      <td>0.6931</td>\n",
              "      <td>0</td>\n",
              "      <td>0</td>\n",
              "      <td>0</td>\n",
              "      <td>0</td>\n",
              "      <td>0</td>\n",
              "      <td>0</td>\n",
              "      <td>1</td>\n",
              "      <td>1</td>\n",
              "    </tr>\n",
              "    <tr>\n",
              "      <th>2023-01-01 04:00:00</th>\n",
              "      <td>0.6946</td>\n",
              "      <td>0.2179</td>\n",
              "      <td>0.0000</td>\n",
              "      <td>0.7004</td>\n",
              "      <td>0</td>\n",
              "      <td>0</td>\n",
              "      <td>0</td>\n",
              "      <td>0</td>\n",
              "      <td>0</td>\n",
              "      <td>0</td>\n",
              "      <td>1</td>\n",
              "      <td>1</td>\n",
              "    </tr>\n",
              "    <tr>\n",
              "      <th>2023-01-01 05:00:00</th>\n",
              "      <td>0.7118</td>\n",
              "      <td>0.2536</td>\n",
              "      <td>0.0000</td>\n",
              "      <td>0.7097</td>\n",
              "      <td>0</td>\n",
              "      <td>0</td>\n",
              "      <td>0</td>\n",
              "      <td>0</td>\n",
              "      <td>0</td>\n",
              "      <td>0</td>\n",
              "      <td>1</td>\n",
              "      <td>1</td>\n",
              "    </tr>\n",
              "  </tbody>\n",
              "</table>\n",
              "</div>\n",
              "    <div class=\"colab-df-buttons\">\n",
              "\n",
              "  <div class=\"colab-df-container\">\n",
              "    <button class=\"colab-df-convert\" onclick=\"convertToInteractive('df-2e2f8442-b31c-4f3c-a583-ef44603b7fd8')\"\n",
              "            title=\"Convert this dataframe to an interactive table.\"\n",
              "            style=\"display:none;\">\n",
              "\n",
              "  <svg xmlns=\"http://www.w3.org/2000/svg\" height=\"24px\" viewBox=\"0 -960 960 960\">\n",
              "    <path d=\"M120-120v-720h720v720H120Zm60-500h600v-160H180v160Zm220 220h160v-160H400v160Zm0 220h160v-160H400v160ZM180-400h160v-160H180v160Zm440 0h160v-160H620v160ZM180-180h160v-160H180v160Zm440 0h160v-160H620v160Z\"/>\n",
              "  </svg>\n",
              "    </button>\n",
              "\n",
              "  <style>\n",
              "    .colab-df-container {\n",
              "      display:flex;\n",
              "      gap: 12px;\n",
              "    }\n",
              "\n",
              "    .colab-df-convert {\n",
              "      background-color: #E8F0FE;\n",
              "      border: none;\n",
              "      border-radius: 50%;\n",
              "      cursor: pointer;\n",
              "      display: none;\n",
              "      fill: #1967D2;\n",
              "      height: 32px;\n",
              "      padding: 0 0 0 0;\n",
              "      width: 32px;\n",
              "    }\n",
              "\n",
              "    .colab-df-convert:hover {\n",
              "      background-color: #E2EBFA;\n",
              "      box-shadow: 0px 1px 2px rgba(60, 64, 67, 0.3), 0px 1px 3px 1px rgba(60, 64, 67, 0.15);\n",
              "      fill: #174EA6;\n",
              "    }\n",
              "\n",
              "    .colab-df-buttons div {\n",
              "      margin-bottom: 4px;\n",
              "    }\n",
              "\n",
              "    [theme=dark] .colab-df-convert {\n",
              "      background-color: #3B4455;\n",
              "      fill: #D2E3FC;\n",
              "    }\n",
              "\n",
              "    [theme=dark] .colab-df-convert:hover {\n",
              "      background-color: #434B5C;\n",
              "      box-shadow: 0px 1px 3px 1px rgba(0, 0, 0, 0.15);\n",
              "      filter: drop-shadow(0px 1px 2px rgba(0, 0, 0, 0.3));\n",
              "      fill: #FFFFFF;\n",
              "    }\n",
              "  </style>\n",
              "\n",
              "    <script>\n",
              "      const buttonEl =\n",
              "        document.querySelector('#df-2e2f8442-b31c-4f3c-a583-ef44603b7fd8 button.colab-df-convert');\n",
              "      buttonEl.style.display =\n",
              "        google.colab.kernel.accessAllowed ? 'block' : 'none';\n",
              "\n",
              "      async function convertToInteractive(key) {\n",
              "        const element = document.querySelector('#df-2e2f8442-b31c-4f3c-a583-ef44603b7fd8');\n",
              "        const dataTable =\n",
              "          await google.colab.kernel.invokeFunction('convertToInteractive',\n",
              "                                                    [key], {});\n",
              "        if (!dataTable) return;\n",
              "\n",
              "        const docLinkHtml = 'Like what you see? Visit the ' +\n",
              "          '<a target=\"_blank\" href=https://colab.research.google.com/notebooks/data_table.ipynb>data table notebook</a>'\n",
              "          + ' to learn more about interactive tables.';\n",
              "        element.innerHTML = '';\n",
              "        dataTable['output_type'] = 'display_data';\n",
              "        await google.colab.output.renderOutput(dataTable, element);\n",
              "        const docLink = document.createElement('div');\n",
              "        docLink.innerHTML = docLinkHtml;\n",
              "        element.appendChild(docLink);\n",
              "      }\n",
              "    </script>\n",
              "  </div>\n",
              "\n",
              "\n",
              "<div id=\"df-07213c16-aa64-4675-a1e6-9576263b4568\">\n",
              "  <button class=\"colab-df-quickchart\" onclick=\"quickchart('df-07213c16-aa64-4675-a1e6-9576263b4568')\"\n",
              "            title=\"Suggest charts\"\n",
              "            style=\"display:none;\">\n",
              "\n",
              "<svg xmlns=\"http://www.w3.org/2000/svg\" height=\"24px\"viewBox=\"0 0 24 24\"\n",
              "     width=\"24px\">\n",
              "    <g>\n",
              "        <path d=\"M19 3H5c-1.1 0-2 .9-2 2v14c0 1.1.9 2 2 2h14c1.1 0 2-.9 2-2V5c0-1.1-.9-2-2-2zM9 17H7v-7h2v7zm4 0h-2V7h2v10zm4 0h-2v-4h2v4z\"/>\n",
              "    </g>\n",
              "</svg>\n",
              "  </button>\n",
              "\n",
              "<style>\n",
              "  .colab-df-quickchart {\n",
              "      --bg-color: #E8F0FE;\n",
              "      --fill-color: #1967D2;\n",
              "      --hover-bg-color: #E2EBFA;\n",
              "      --hover-fill-color: #174EA6;\n",
              "      --disabled-fill-color: #AAA;\n",
              "      --disabled-bg-color: #DDD;\n",
              "  }\n",
              "\n",
              "  [theme=dark] .colab-df-quickchart {\n",
              "      --bg-color: #3B4455;\n",
              "      --fill-color: #D2E3FC;\n",
              "      --hover-bg-color: #434B5C;\n",
              "      --hover-fill-color: #FFFFFF;\n",
              "      --disabled-bg-color: #3B4455;\n",
              "      --disabled-fill-color: #666;\n",
              "  }\n",
              "\n",
              "  .colab-df-quickchart {\n",
              "    background-color: var(--bg-color);\n",
              "    border: none;\n",
              "    border-radius: 50%;\n",
              "    cursor: pointer;\n",
              "    display: none;\n",
              "    fill: var(--fill-color);\n",
              "    height: 32px;\n",
              "    padding: 0;\n",
              "    width: 32px;\n",
              "  }\n",
              "\n",
              "  .colab-df-quickchart:hover {\n",
              "    background-color: var(--hover-bg-color);\n",
              "    box-shadow: 0 1px 2px rgba(60, 64, 67, 0.3), 0 1px 3px 1px rgba(60, 64, 67, 0.15);\n",
              "    fill: var(--button-hover-fill-color);\n",
              "  }\n",
              "\n",
              "  .colab-df-quickchart-complete:disabled,\n",
              "  .colab-df-quickchart-complete:disabled:hover {\n",
              "    background-color: var(--disabled-bg-color);\n",
              "    fill: var(--disabled-fill-color);\n",
              "    box-shadow: none;\n",
              "  }\n",
              "\n",
              "  .colab-df-spinner {\n",
              "    border: 2px solid var(--fill-color);\n",
              "    border-color: transparent;\n",
              "    border-bottom-color: var(--fill-color);\n",
              "    animation:\n",
              "      spin 1s steps(1) infinite;\n",
              "  }\n",
              "\n",
              "  @keyframes spin {\n",
              "    0% {\n",
              "      border-color: transparent;\n",
              "      border-bottom-color: var(--fill-color);\n",
              "      border-left-color: var(--fill-color);\n",
              "    }\n",
              "    20% {\n",
              "      border-color: transparent;\n",
              "      border-left-color: var(--fill-color);\n",
              "      border-top-color: var(--fill-color);\n",
              "    }\n",
              "    30% {\n",
              "      border-color: transparent;\n",
              "      border-left-color: var(--fill-color);\n",
              "      border-top-color: var(--fill-color);\n",
              "      border-right-color: var(--fill-color);\n",
              "    }\n",
              "    40% {\n",
              "      border-color: transparent;\n",
              "      border-right-color: var(--fill-color);\n",
              "      border-top-color: var(--fill-color);\n",
              "    }\n",
              "    60% {\n",
              "      border-color: transparent;\n",
              "      border-right-color: var(--fill-color);\n",
              "    }\n",
              "    80% {\n",
              "      border-color: transparent;\n",
              "      border-right-color: var(--fill-color);\n",
              "      border-bottom-color: var(--fill-color);\n",
              "    }\n",
              "    90% {\n",
              "      border-color: transparent;\n",
              "      border-bottom-color: var(--fill-color);\n",
              "    }\n",
              "  }\n",
              "</style>\n",
              "\n",
              "  <script>\n",
              "    async function quickchart(key) {\n",
              "      const quickchartButtonEl =\n",
              "        document.querySelector('#' + key + ' button');\n",
              "      quickchartButtonEl.disabled = true;  // To prevent multiple clicks.\n",
              "      quickchartButtonEl.classList.add('colab-df-spinner');\n",
              "      try {\n",
              "        const charts = await google.colab.kernel.invokeFunction(\n",
              "            'suggestCharts', [key], {});\n",
              "      } catch (error) {\n",
              "        console.error('Error during call to suggestCharts:', error);\n",
              "      }\n",
              "      quickchartButtonEl.classList.remove('colab-df-spinner');\n",
              "      quickchartButtonEl.classList.add('colab-df-quickchart-complete');\n",
              "    }\n",
              "    (() => {\n",
              "      let quickchartButtonEl =\n",
              "        document.querySelector('#df-07213c16-aa64-4675-a1e6-9576263b4568 button');\n",
              "      quickchartButtonEl.style.display =\n",
              "        google.colab.kernel.accessAllowed ? 'block' : 'none';\n",
              "    })();\n",
              "  </script>\n",
              "</div>\n",
              "\n",
              "    </div>\n",
              "  </div>\n"
            ],
            "application/vnd.google.colaboratory.intrinsic+json": {
              "type": "dataframe",
              "variable_name": "X_test",
              "summary": "{\n  \"name\": \"X_test\",\n  \"rows\": 8760,\n  \"fields\": [\n    {\n      \"column\": \"e_tm\",\n      \"properties\": {\n        \"dtype\": \"date\",\n        \"min\": \"2023-01-01 01:00:00\",\n        \"max\": \"2024-01-01 00:00:00\",\n        \"num_unique_values\": 8760,\n        \"samples\": [\n          \"2023-09-10 09:00:00\",\n          \"2023-08-20 13:00:00\",\n          \"2023-09-07 15:00:00\"\n        ],\n        \"semantic_type\": \"\",\n        \"description\": \"\"\n      }\n    },\n    {\n      \"column\": \"mean_c_nph_hm\",\n      \"properties\": {\n        \"dtype\": \"number\",\n        \"std\": 0.1979395171594157,\n        \"min\": 0.0,\n        \"max\": 1.0,\n        \"num_unique_values\": 5409,\n        \"samples\": [\n          0.5139881877525643,\n          0.9543052533416225,\n          0.936742306496736\n        ],\n        \"semantic_type\": \"\",\n        \"description\": \"\"\n      }\n    },\n    {\n      \"column\": \"mean_c_nph_ws_10m\",\n      \"properties\": {\n        \"dtype\": \"number\",\n        \"std\": 0.1561379858047331,\n        \"min\": 0.0,\n        \"max\": 0.9999999999999999,\n        \"num_unique_values\": 1642,\n        \"samples\": [\n          0.16489874638379945,\n          0.17550626808100295,\n          0.1446480231436837\n        ],\n        \"semantic_type\": \"\",\n        \"description\": \"\"\n      }\n    },\n    {\n      \"column\": \"mean_c_nph_rn_60m\",\n      \"properties\": {\n        \"dtype\": \"number\",\n        \"std\": 0.03661163789975178,\n        \"min\": 0.0,\n        \"max\": 1.0,\n        \"num_unique_values\": 372,\n        \"samples\": [\n          0.125,\n          0.022925764192139736,\n          0.013100436681222707\n        ],\n        \"semantic_type\": \"\",\n        \"description\": \"\"\n      }\n    },\n    {\n      \"column\": \"mean_pca_feature\",\n      \"properties\": {\n        \"dtype\": \"number\",\n        \"std\": 0.2132499660979128,\n        \"min\": 0.0,\n        \"max\": 1.0,\n        \"num_unique_values\": 8739,\n        \"samples\": [\n          0.5653282634930417,\n          0.576518526172553,\n          0.6779450542376868\n        ],\n        \"semantic_type\": \"\",\n        \"description\": \"\"\n      }\n    },\n    {\n      \"column\": \"e_weekday_0\",\n      \"properties\": {\n        \"dtype\": \"number\",\n        \"std\": 0,\n        \"min\": 0,\n        \"max\": 1,\n        \"num_unique_values\": 2,\n        \"samples\": [\n          1,\n          0\n        ],\n        \"semantic_type\": \"\",\n        \"description\": \"\"\n      }\n    },\n    {\n      \"column\": \"e_weekday_1\",\n      \"properties\": {\n        \"dtype\": \"number\",\n        \"std\": 0,\n        \"min\": 0,\n        \"max\": 1,\n        \"num_unique_values\": 2,\n        \"samples\": [\n          1,\n          0\n        ],\n        \"semantic_type\": \"\",\n        \"description\": \"\"\n      }\n    },\n    {\n      \"column\": \"e_weekday_2\",\n      \"properties\": {\n        \"dtype\": \"number\",\n        \"std\": 0,\n        \"min\": 0,\n        \"max\": 1,\n        \"num_unique_values\": 2,\n        \"samples\": [\n          1,\n          0\n        ],\n        \"semantic_type\": \"\",\n        \"description\": \"\"\n      }\n    },\n    {\n      \"column\": \"e_weekday_3\",\n      \"properties\": {\n        \"dtype\": \"number\",\n        \"std\": 0,\n        \"min\": 0,\n        \"max\": 1,\n        \"num_unique_values\": 2,\n        \"samples\": [\n          1,\n          0\n        ],\n        \"semantic_type\": \"\",\n        \"description\": \"\"\n      }\n    },\n    {\n      \"column\": \"e_weekday_4\",\n      \"properties\": {\n        \"dtype\": \"number\",\n        \"std\": 0,\n        \"min\": 0,\n        \"max\": 1,\n        \"num_unique_values\": 2,\n        \"samples\": [\n          1,\n          0\n        ],\n        \"semantic_type\": \"\",\n        \"description\": \"\"\n      }\n    },\n    {\n      \"column\": \"e_weekday_5\",\n      \"properties\": {\n        \"dtype\": \"number\",\n        \"std\": 0,\n        \"min\": 0,\n        \"max\": 1,\n        \"num_unique_values\": 2,\n        \"samples\": [\n          1,\n          0\n        ],\n        \"semantic_type\": \"\",\n        \"description\": \"\"\n      }\n    },\n    {\n      \"column\": \"e_weekday_6\",\n      \"properties\": {\n        \"dtype\": \"number\",\n        \"std\": 0,\n        \"min\": 0,\n        \"max\": 1,\n        \"num_unique_values\": 2,\n        \"samples\": [\n          0,\n          1\n        ],\n        \"semantic_type\": \"\",\n        \"description\": \"\"\n      }\n    },\n    {\n      \"column\": \"e_weekname\",\n      \"properties\": {\n        \"dtype\": \"number\",\n        \"std\": 0,\n        \"min\": 0,\n        \"max\": 1,\n        \"num_unique_values\": 2,\n        \"samples\": [\n          0,\n          1\n        ],\n        \"semantic_type\": \"\",\n        \"description\": \"\"\n      }\n    }\n  ]\n}"
            }
          },
          "metadata": {},
          "execution_count": 108
        }
      ]
    },
    {
      "cell_type": "markdown",
      "source": [
        "## 최종 데이터프레임 csv파일로 저장"
      ],
      "metadata": {
        "id": "86GbaoEAXznA"
      }
    },
    {
      "cell_type": "code",
      "source": [
        "# 전처리 후 생성 데이터셋 csv파일로 저장\n",
        "X_train.to_csv(\"X_train.csv\")\n",
        "X_test.to_csv(\"X_test.csv\")\n",
        "y_train.to_csv(\"y_train.csv\")"
      ],
      "metadata": {
        "id": "fgnl3nM6tuxm"
      },
      "execution_count": null,
      "outputs": []
    },
    {
      "cell_type": "markdown",
      "source": [
        "<h1>모델1 - RNN</h1>"
      ],
      "metadata": {
        "id": "Ogm4LpSibS7U"
      }
    },
    {
      "cell_type": "code",
      "source": [
        "import numpy as np\n",
        "\n",
        "# Convert DataFrame to numpy array\n",
        "x_train_array = x_train.values\n",
        "x_val_array = x_val.values\n",
        "x_test_array = x_test.values\n",
        "y_test_array = y_test.values\n",
        "\n",
        "# Reshape the numpy arrays\n",
        "x_train = x_train_array.reshape(x_train_array.shape[0], 1, x_train_array.shape[1])\n",
        "x_val = x_val_array.reshape(x_val_array.shape[0], 1, x_val_array.shape[1])\n",
        "x_test = x_test_array.reshape(x_test_array.shape[0], 1, x_test_array.shape[1])\n",
        "y_test = y_test_array.reshape(y_test_array.shape[0], 1, y_test_array.shape[1])"
      ],
      "metadata": {
        "id": "ZF5nlJAgbM4L"
      },
      "execution_count": null,
      "outputs": []
    },
    {
      "cell_type": "code",
      "source": [
        "\n",
        "# Define the search space for hyperparameters\n",
        "space = {\n",
        "    'units': hp.choice('units', [64, 128, 256]),\n",
        "    'dropout': hp.uniform('dropout', 0.1, 0.5),\n",
        "    'recurrent_dropout': hp.uniform('recurrent_dropout', 0.1, 0.3),\n",
        "    'learning_rate': hp.loguniform('learning_rate', np.log(0.0001), np.log(0.1)),\n",
        "    'batch_size': hp.choice('batch_size', [16, 32, 64]),\n",
        "    'epochs': 50,\n",
        "    'data': (x_train, y_train, x_val, y_val, x_test, y_test)\n",
        "}"
      ],
      "metadata": {
        "id": "DSdrALJIbZwA"
      },
      "execution_count": null,
      "outputs": []
    },
    {
      "cell_type": "code",
      "source": [
        "\n",
        "# Define the objective function to minimize (validation loss)\n",
        "def objective(params, y_test):\n",
        "    model = Sequential([\n",
        "        SimpleRNN(units=params['units'], input_shape=(1, 12), return_sequences=True, dropout=params['dropout'], recurrent_dropout=params['recurrent_dropout']),\n",
        "        SimpleRNN(units=params['units'] // 2, return_sequences=True, dropout=params['dropout'], recurrent_dropout=params['recurrent_dropout']),\n",
        "        SimpleRNN(units=params['units'] // 4, return_sequences=False, dropout=params['dropout'], recurrent_dropout=params['recurrent_dropout']),\n",
        "        Dense(1, activation='linear')\n",
        "    ])\n",
        "    model.compile(optimizer=\"adam\", loss=\"mean_squared_error\", metrics=[\"mean_absolute_error\"])\n",
        "    # Fit the model\n",
        "    history = model.fit(x_train, y_train,\n",
        "                        epochs=params['epochs'],\n",
        "                        batch_size=params['batch_size'],\n",
        "                        validation_data=(x_val, y_val),\n",
        "                        verbose=0)\n",
        "\n",
        "    # y_pred\n",
        "    y_pred = model.predict(x_test)\n",
        "\n",
        "    # Flatten y_pred and y_test to 2D\n",
        "    y_pred = y_pred.reshape(-1)\n",
        "    y_test = y_test.reshape(-1)\n",
        "\n",
        "    # Calculate MAE\n",
        "    mae = mean_absolute_error(y_test, y_pred)\n",
        "\n",
        "    # Calculate RMSE\n",
        "    rmse = np.sqrt(mean_squared_error(y_test, y_pred))\n",
        "\n",
        "    # R2\n",
        "    r2 = r2_score(y_test, y_pred)\n",
        "\n",
        "    return {'loss': mae, 'status': 'ok', 'rmse': rmse, 'r2': r2}\n",
        "    return val_loss\n"
      ],
      "metadata": {
        "id": "S0MLySxrbcAC"
      },
      "execution_count": null,
      "outputs": []
    },
    {
      "cell_type": "code",
      "source": [
        "trials = Trials()\n",
        "best = fmin(fn=lambda params: objective(params, y_test), space=space, algo=tpe.suggest, max_evals=10, trials=trials)\n",
        "print(\"Best hyperparameters:\", best)"
      ],
      "metadata": {
        "id": "y21LZ23FbfnI"
      },
      "execution_count": null,
      "outputs": []
    },
    {
      "cell_type": "code",
      "source": [
        "#optimal hyperparam 'batch_size': 1, 'dropout': 0.25138108140486515, 'learning_rate': 0.027477791611987844, 'recurrent_dropout': 0.264359181620216, 'units': 2}"
      ],
      "metadata": {
        "id": "hYSURqMJbhbr"
      },
      "execution_count": null,
      "outputs": []
    },
    {
      "cell_type": "code",
      "source": [
        "from keras.callbacks import EarlyStopping\n",
        "\n",
        "# Define EarlyStopping callback\n",
        "early_stopping = EarlyStopping(monitor='val_loss', patience=10, verbose=1, restore_best_weights=True)\n",
        "\n",
        "params = {\n",
        "    'units': 256,\n",
        "    'dropout': 0.25138108140486515,\n",
        "    'recurrent_dropout': 0.264359181620216,\n",
        "    'learning_rate': 0.027477791611987844 ,\n",
        "    'batch_size': 32,\n",
        "    'epochs': 50,\n",
        "}\n",
        "\n",
        "\n",
        "model = Sequential([\n",
        "    SimpleRNN(units=params['units'], input_shape=(1, 12), return_sequences=True, dropout=params['dropout'], recurrent_dropout=params['recurrent_dropout']),\n",
        "    SimpleRNN(units=params['units'] // 2, return_sequences=True, dropout=params['dropout'], recurrent_dropout=params['recurrent_dropout']),\n",
        "    SimpleRNN(units=params['units'] // 4, return_sequences=False, dropout=params['dropout'], recurrent_dropout=params['recurrent_dropout']),\n",
        "    Dense(1, activation='linear')\n",
        "])\n",
        "\n",
        "model.compile(optimizer=\"adam\", loss=\"mean_squared_error\", metrics=[\"mean_absolute_error\", \"mean_squared_error\"])\n",
        "\n",
        "# Fit the model\n",
        "history = model.fit(x_train, y_train,\n",
        "                    epochs=params['epochs'],\n",
        "                    batch_size=params['batch_size'],\n",
        "                    validation_data=(x_val, y_val),\n",
        "                    verbose=0,\n",
        "                    callbacks=[early_stopping])\n",
        "\n",
        "# Predict and calculate MAE and RMSE\n",
        "y_pred = model.predict(x_test)\n",
        "\n",
        "# Flatten y_pred and y_test to 2D\n",
        "y_pred = y_pred.reshape(-1)\n",
        "y_test = y_test.reshape(-1)\n",
        "\n",
        "mae = mean_absolute_error(y_test, y_pred)\n",
        "rmse = np.sqrt(mean_squared_error(y_test, y_pred))\n",
        "r2 = r2_score(y_test, y_pred)\n",
        "\n",
        "# Save MAE and RMSE\n",
        "results = {'MAE': mae, 'RMSE': rmse, 'R2': r2}\n",
        "print(results)\n"
      ],
      "metadata": {
        "id": "IQ2xBAkxbnW2"
      },
      "execution_count": null,
      "outputs": []
    },
    {
      "cell_type": "code",
      "source": [
        "import matplotlib.pyplot as plt\n",
        "\n",
        "his_dict = history.history\n",
        "loss = his_dict['loss']\n",
        "val_loss = his_dict['val_loss']\n",
        "\n",
        "epochs = range(1, len(loss) + 1)\n",
        "fig = plt.figure(figsize = (15,5))\n",
        "\n",
        "ax1=fig.add_subplot(1,3,1)\n",
        "ax1.plot(epochs, loss, color ='blue', label='Train')\n",
        "ax1.plot(epochs, val_loss, color ='orange', label='Test')\n",
        "ax1.set_title('Loss')\n",
        "ax1.set_xlabel('epochs')\n",
        "ax1.set_ylabel('loss')\n",
        "ax1.legend()\n",
        "\n",
        "mae = his_dict['mean_absolute_error']\n",
        "val_mae = his_dict['val_mean_absolute_error']\n",
        "\n",
        "ax2=fig.add_subplot(1,3,2)\n",
        "ax2.plot(epochs, mae, color ='blue', label='Train_mae')\n",
        "ax2.plot(epochs, val_mae, color ='orange', label='Val_mae')\n",
        "ax2.set_title('Mean Absolute Error')\n",
        "ax2.set_xlabel('epochs')\n",
        "ax2.set_ylabel('mean_absolute_error')\n",
        "ax2.legend()\n",
        "\n",
        "mse = his_dict['mean_squared_error']\n",
        "val_mse = his_dict['val_mean_squared_error']\n",
        "\n",
        "ax3=fig.add_subplot(1,3,3)\n",
        "ax3.plot(epochs, mse, color ='blue', label='Train_mse')\n",
        "ax3.plot(epochs, val_mse, color ='orange', label='Val_mse')\n",
        "ax3.set_title('Mean Squared Error')\n",
        "ax3.set_xlabel('epochs')\n",
        "ax3.set_ylabel('mean_squared_error')\n",
        "ax3.legend()"
      ],
      "metadata": {
        "id": "VCOt3UgvbqNZ"
      },
      "execution_count": null,
      "outputs": []
    },
    {
      "cell_type": "code",
      "source": [
        "pred= model.predict(x_test)\n",
        "\n",
        "y_pred = y_pred.reshape(-1)  # (n_samples,) 형태로 변환\n",
        "y_test = y_test.reshape(-1)  # (n_samples,) 형태로 변환\n",
        "\n",
        "# 3. 예측값과 실제값 비교하는 그래프 그리기\n",
        "plt.figure(figsize=(20, 6))\n",
        "plt.plot(y_test, label='Actual')\n",
        "plt.plot(y_pred, label='Predicted')\n",
        "plt.title('Comparison of Actual and Predicted Values')\n",
        "plt.xlabel('Sample')\n",
        "plt.ylabel('Value')\n",
        "plt.legend()\n",
        "plt.show()"
      ],
      "metadata": {
        "id": "DWDsEYCvbs-r"
      },
      "execution_count": null,
      "outputs": []
    },
    {
      "cell_type": "markdown",
      "source": [
        "<h1>모델2 - LSTM</h1>"
      ],
      "metadata": {
        "id": "jvfC6jZtcxJK"
      }
    },
    {
      "cell_type": "code",
      "source": [
        "import numpy as np\n",
        "\n",
        "# Convert DataFrame to numpy array\n",
        "x_train_array = x_train.values\n",
        "x_val_array = x_val.values\n",
        "x_test_array = x_test.values\n",
        "y_test_array = y_test.values\n",
        "\n",
        "# Reshape the numpy arrays\n",
        "x_train = x_train_array.reshape(x_train_array.shape[0], 1, x_train_array.shape[1])\n",
        "x_val = x_val_array.reshape(x_val_array.shape[0], 1, x_val_array.shape[1])\n",
        "x_test = x_test_array.reshape(x_test_array.shape[0], 1, x_test_array.shape[1])\n",
        "y_test = y_test_array.reshape(y_test_array.shape[0], 1, y_test_array.shape[1])"
      ],
      "metadata": {
        "id": "-IS8Jicdbvgm"
      },
      "execution_count": null,
      "outputs": []
    },
    {
      "cell_type": "code",
      "source": [
        "\n",
        "# Define the search space for hyperparameters\n",
        "space = {\n",
        "    'units': hp.choice('units', [64, 128, 256]),\n",
        "    'dropout': hp.uniform('dropout', 0.1, 0.5),\n",
        "    'recurrent_dropout': hp.uniform('recurrent_dropout', 0.1, 0.3),\n",
        "    'learning_rate': hp.loguniform('learning_rate', np.log(0.0001), np.log(0.1)),\n",
        "    'batch_size': hp.choice('batch_size', [16, 32, 64]),\n",
        "    'epochs': 100,\n",
        "    'data': (x_train, y_train, x_val, y_val, x_test, y_test)\n",
        "}"
      ],
      "metadata": {
        "id": "JueAo1U-b5To"
      },
      "execution_count": null,
      "outputs": []
    },
    {
      "cell_type": "code",
      "source": [
        "\n",
        "# Define the objective function to minimize (validation loss)\n",
        "def objective(params, y_test):\n",
        "    model = Sequential([\n",
        "        LSTM(units=params['units'], input_shape=(1, 12), return_sequences=True, dropout=params['dropout'], recurrent_dropout=params['recurrent_dropout']),\n",
        "        LSTM(units=params['units'] // 2, return_sequences=True, dropout=params['dropout'], recurrent_dropout=params['recurrent_dropout']),\n",
        "        LSTM(units=params['units'] // 4, return_sequences=False, dropout=params['dropout'], recurrent_dropout=params['recurrent_dropout']),\n",
        "        Dense(1, activation='linear')\n",
        "    ])\n",
        "    model.compile(optimizer=\"adam\", loss=\"mean_squared_error\", metrics=[\"mean_absolute_error\"])\n",
        "    # Fit the model\n",
        "    history = model.fit(x_train, y_train,\n",
        "                        epochs=params['epochs'],\n",
        "                        batch_size=params['batch_size'],\n",
        "                        validation_data=(x_val, y_val),\n",
        "                        verbose=0)\n",
        "\n",
        "    # y_pred\n",
        "    y_pred = model.predict(x_test)\n",
        "\n",
        "    # Flatten y_pred and y_test to 2D\n",
        "    y_pred = y_pred.reshape(-1)\n",
        "    y_test = y_test.reshape(-1)\n",
        "\n",
        "    # Calculate MAE\n",
        "    mae = mean_absolute_error(y_test, y_pred)\n",
        "\n",
        "    # Calculate RMSE\n",
        "    rmse = np.sqrt(mean_squared_error(y_test, y_pred))\n",
        "\n",
        "    # R2\n",
        "    r2 = r2_score(y_test, y_pred)\n",
        "\n",
        "    return {'loss': mae, 'status': 'ok', 'rmse': rmse, 'r2': r2}\n",
        "    return val_loss\n"
      ],
      "metadata": {
        "id": "6tyluXHqb6eI"
      },
      "execution_count": null,
      "outputs": []
    },
    {
      "cell_type": "code",
      "source": [
        "trials = Trials()\n",
        "best = fmin(fn=lambda params: objective(params, y_test), space=space, algo=tpe.suggest, max_evals=10, trials=trials)\n",
        "print(\"Best hyperparameters:\", best)"
      ],
      "metadata": {
        "id": "swXvcYByb7_f"
      },
      "execution_count": null,
      "outputs": []
    },
    {
      "cell_type": "code",
      "source": [
        "# optimal hyperpram #'batch_size': 0, 'dropout': 0.1452954854962082, 'learning_rate': 0.000795870604069595, 'recurrent_dropout': 0.13322767110818748, 'units': 1}"
      ],
      "metadata": {
        "id": "3dO2JxQyb_V1"
      },
      "execution_count": null,
      "outputs": []
    },
    {
      "cell_type": "code",
      "source": [
        "from keras.callbacks import EarlyStopping\n",
        "\n",
        "# Define EarlyStopping callback\n",
        "early_stopping = EarlyStopping(monitor='val_loss', patience=10, verbose=1, restore_best_weights=True)\n",
        "\n",
        "params = {\n",
        "    'units': 128,\n",
        "    'dropout': 0.1452954854962082,\n",
        "    'recurrent_dropout': 0.13322767110818748,\n",
        "    'learning_rate': 0.000795870604069595 ,\n",
        "    'batch_size': 16,\n",
        "    'epochs': 200,\n",
        "}\n",
        "\n",
        "\n",
        "model = Sequential([\n",
        "    LSTM(units=params['units'], input_shape=(1, 12), return_sequences=True, dropout=params['dropout'], recurrent_dropout=params['recurrent_dropout']),\n",
        "    LSTM(units=params['units'] // 2, return_sequences=True, dropout=params['dropout'], recurrent_dropout=params['recurrent_dropout']),\n",
        "    LSTM(units=params['units'] // 4, return_sequences=False, dropout=params['dropout'], recurrent_dropout=params['recurrent_dropout']),\n",
        "    Dense(1, activation='linear')\n",
        "])\n",
        "\n",
        "model.compile(optimizer=\"adam\", loss=\"mean_squared_error\", metrics=[\"mean_absolute_error\", \"mean_squared_error\"])\n",
        "\n",
        "# Fit the model\n",
        "history = model.fit(x_train, y_train,\n",
        "                    epochs=params['epochs'],\n",
        "                    batch_size=params['batch_size'],\n",
        "                    validation_data=(x_val, y_val),\n",
        "                    verbose=0,\n",
        "                    callbacks = [early_stopping])\n",
        "\n",
        "# Predict and calculate MAE and RMSE\n",
        "y_pred = model.predict(x_test)\n",
        "\n",
        "# Flatten y_pred and y_test to 2D\n",
        "y_pred = y_pred.reshape(-1)\n",
        "y_test = y_test.reshape(-1)\n",
        "\n",
        "mae = mean_absolute_error(y_test, y_pred)\n",
        "rmse = np.sqrt(mean_squared_error(y_test, y_pred))\n",
        "r2 = r2_score(y_test, y_pred)\n",
        "\n",
        "# Save MAE and RMSE\n",
        "results = {'MAE': mae, 'RMSE': rmse, 'R2': r2}\n",
        "print(results)\n"
      ],
      "metadata": {
        "id": "0jzRuNsecC5A"
      },
      "execution_count": null,
      "outputs": []
    },
    {
      "cell_type": "code",
      "source": [
        "import matplotlib.pyplot as plt\n",
        "\n",
        "his_dict = history.history\n",
        "loss = his_dict['loss']\n",
        "val_loss = his_dict['val_loss']\n",
        "\n",
        "epochs = range(1, len(loss) + 1)\n",
        "fig = plt.figure(figsize = (15,5))\n",
        "\n",
        "ax1=fig.add_subplot(1,3,1)\n",
        "ax1.plot(epochs, loss, color ='blue', label='Train')\n",
        "ax1.plot(epochs, val_loss, color ='orange', label='Test')\n",
        "ax1.set_title('Loss')\n",
        "ax1.set_xlabel('epochs')\n",
        "ax1.set_ylabel('loss')\n",
        "ax1.legend()\n",
        "\n",
        "mae = his_dict['mean_absolute_error']\n",
        "val_mae = his_dict['val_mean_absolute_error']\n",
        "\n",
        "ax2=fig.add_subplot(1,3,2)\n",
        "ax2.plot(epochs, mae, color ='blue', label='Train_mae')\n",
        "ax2.plot(epochs, val_mae, color ='orange', label='Val_mae')\n",
        "ax2.set_title('Mean Absolute Error')\n",
        "ax2.set_xlabel('epochs')\n",
        "ax2.set_ylabel('mean_absolute_error')\n",
        "ax2.legend()\n",
        "\n",
        "mse = his_dict['mean_squared_error']\n",
        "val_mse = his_dict['val_mean_squared_error']\n",
        "\n",
        "ax3=fig.add_subplot(1,3,3)\n",
        "ax3.plot(epochs, mse, color ='blue', label='Train_mse')\n",
        "ax3.plot(epochs, val_mse, color ='orange', label='Val_mse')\n",
        "ax3.set_title('Mean Squared Error')\n",
        "ax3.set_xlabel('epochs')\n",
        "ax3.set_ylabel('mean_squared_error')\n",
        "ax3.legend()"
      ],
      "metadata": {
        "id": "F1G-YNt4cD7u"
      },
      "execution_count": null,
      "outputs": []
    },
    {
      "cell_type": "code",
      "source": [
        "# 예측값과 실제값 산포도 시각화 (R-squared 포함)\n",
        "plt.figure(figsize=(8, 8))\n",
        "plt.scatter(y_test, y_pred, alpha=0.3, label='Data points')\n",
        "plt.plot([y_test.min(), y_test.max()], [y_test.min(), y_test.max()], 'r--', label='Ideal fit')\n",
        "plt.title(f'True vs Predicted Scatter Plot\\nR-squared: {r2:.3f}')\n",
        "plt.xlabel('True Values')\n",
        "plt.ylabel('Predicted Values')\n",
        "plt.legend()\n",
        "plt.show()"
      ],
      "metadata": {
        "id": "SVauarkEcX92"
      },
      "execution_count": null,
      "outputs": []
    },
    {
      "cell_type": "markdown",
      "source": [
        "<h1>모델3 - GRU</h1>"
      ],
      "metadata": {
        "id": "-Z5TKAAucz7d"
      }
    },
    {
      "cell_type": "code",
      "source": [
        "\n",
        "# Define the search space for hyperparameters\n",
        "space = {\n",
        "    'units': hp.choice('units', [64, 128, 256]),\n",
        "    'dropout': hp.uniform('dropout', 0.1, 0.5),\n",
        "    'recurrent_dropout': hp.uniform('recurrent_dropout', 0.1, 0.3),\n",
        "    'learning_rate': hp.loguniform('learning_rate', np.log(0.0001), np.log(0.1)),\n",
        "    'batch_size': hp.choice('batch_size', [16, 32, 64]),\n",
        "    'epochs': 50,\n",
        "    'data': (x_train, y_train, x_val, y_val, x_test, y_test)\n",
        "}"
      ],
      "metadata": {
        "id": "kAIyEmnUccHR"
      },
      "execution_count": null,
      "outputs": []
    },
    {
      "cell_type": "code",
      "source": [
        "\n",
        "# Define the objective function to minimize (validation loss)\n",
        "def objective(params, y_test):\n",
        "    model = Sequential([\n",
        "        SimpleRNN(units=params['units'], input_shape=(1, 12), return_sequences=True, dropout=params['dropout'], recurrent_dropout=params['recurrent_dropout']),\n",
        "        SimpleRNN(units=params['units'] // 2, return_sequences=True, dropout=params['dropout'], recurrent_dropout=params['recurrent_dropout']),\n",
        "        SimpleRNN(units=params['units'] // 4, return_sequences=False, dropout=params['dropout'], recurrent_dropout=params['recurrent_dropout']),\n",
        "        Dense(1, activation='linear')\n",
        "    ])\n",
        "    model.compile(optimizer=\"adam\", loss=\"mean_squared_error\", metrics=[\"mean_absolute_error\"])\n",
        "    # Fit the model\n",
        "    history = model.fit(x_train, y_train,\n",
        "                        epochs=params['epochs'],\n",
        "                        batch_size=params['batch_size'],\n",
        "                        validation_data=(x_val, y_val),\n",
        "                        verbose=0)\n",
        "\n",
        "    # y_pred\n",
        "    y_pred = model.predict(x_test)\n",
        "\n",
        "    # Flatten y_pred and y_test to 2D\n",
        "    y_pred = y_pred.reshape(-1)\n",
        "    y_test = y_test.reshape(-1)\n",
        "\n",
        "    # Calculate MAE\n",
        "    mae = mean_absolute_error(y_test, y_pred)\n",
        "\n",
        "    # Calculate RMSE\n",
        "    rmse = np.sqrt(mean_squared_error(y_test, y_pred))\n",
        "\n",
        "    # R2\n",
        "    r2 = r2_score(y_test, y_pred)\n",
        "\n",
        "    return {'loss': mae, 'status': 'ok', 'rmse': rmse, 'r2': r2}\n",
        "    return val_loss\n"
      ],
      "metadata": {
        "id": "a3-KvbRsc4AA"
      },
      "execution_count": null,
      "outputs": []
    },
    {
      "cell_type": "code",
      "source": [
        "trials = Trials()\n",
        "best = fmin(fn=lambda params: objective(params, y_test), space=space, algo=tpe.suggest, max_evals=10, trials=trials)\n",
        "print(\"Best hyperparameters:\", best)"
      ],
      "metadata": {
        "id": "NXkk11ofc7gU"
      },
      "execution_count": null,
      "outputs": []
    },
    {
      "cell_type": "code",
      "source": [
        "#optimal hyperparam 'batch_size': 1, 'dropout': 0.25138108140486515, 'learning_rate': 0.027477791611987844, 'recurrent_dropout': 0.264359181620216, 'units': 2}"
      ],
      "metadata": {
        "id": "--oTHi8nc94e"
      },
      "execution_count": null,
      "outputs": []
    },
    {
      "cell_type": "code",
      "source": [
        "from keras.callbacks import EarlyStopping\n",
        "\n",
        "# Define EarlyStopping callback\n",
        "early_stopping = EarlyStopping(monitor='val_loss', patience=10, verbose=1, restore_best_weights=True)\n",
        "\n",
        "params = {\n",
        "    'units': 256,\n",
        "    'dropout': 0.25138108140486515,\n",
        "    'recurrent_dropout': 0.264359181620216,\n",
        "    'learning_rate': 0.027477791611987844 ,\n",
        "    'batch_size': 32,\n",
        "    'epochs': 200,\n",
        "}\n",
        "\n",
        "\n",
        "model = Sequential([\n",
        "    SimpleRNN(units=params['units'], input_shape=(1, 12), return_sequences=True, dropout=params['dropout'], recurrent_dropout=params['recurrent_dropout']),\n",
        "    SimpleRNN(units=params['units'] // 2, return_sequences=True, dropout=params['dropout'], recurrent_dropout=params['recurrent_dropout']),\n",
        "    SimpleRNN(units=params['units'] // 4, return_sequences=False, dropout=params['dropout'], recurrent_dropout=params['recurrent_dropout']),\n",
        "    Dense(1, activation='linear')\n",
        "])\n",
        "\n",
        "model.compile(optimizer=\"adam\", loss=\"mean_squared_error\", metrics=[\"mean_absolute_error\", \"mean_squared_error\"])\n",
        "\n",
        "# Fit the model\n",
        "history = model.fit(x_train, y_train,\n",
        "                    epochs=params['epochs'],\n",
        "                    batch_size=params['batch_size'],\n",
        "                    validation_data=(x_val, y_val),\n",
        "                    verbose=0,\n",
        "                    callbacks=[early_stopping])\n",
        "\n",
        "# Predict and calculate MAE and RMSE\n",
        "y_pred = model.predict(x_test)\n",
        "\n",
        "# Flatten y_pred and y_test to 2D\n",
        "y_pred = y_pred.reshape(-1)\n",
        "y_test = y_test.reshape(-1)\n",
        "\n",
        "mae = mean_absolute_error(y_test, y_pred)\n",
        "rmse = np.sqrt(mean_squared_error(y_test, y_pred))\n",
        "r2 = r2_score(y_test, y_pred)\n",
        "\n",
        "# Save MAE and RMSE\n",
        "results = {'MAE': mae, 'RMSE': rmse, 'R2': r2}\n",
        "print(results)\n"
      ],
      "metadata": {
        "id": "WRIJD-_rdAqD"
      },
      "execution_count": null,
      "outputs": []
    },
    {
      "cell_type": "code",
      "source": [
        "import matplotlib.pyplot as plt\n",
        "\n",
        "his_dict = history.history\n",
        "loss = his_dict['loss']\n",
        "val_loss = his_dict['val_loss']\n",
        "\n",
        "epochs = range(1, len(loss) + 1)\n",
        "fig = plt.figure(figsize = (15,5))\n",
        "\n",
        "ax1=fig.add_subplot(1,3,1)\n",
        "ax1.plot(epochs, loss, color ='blue', label='Train')\n",
        "ax1.plot(epochs, val_loss, color ='orange', label='Test')\n",
        "ax1.set_title('Loss')\n",
        "ax1.set_xlabel('epochs')\n",
        "ax1.set_ylabel('loss')\n",
        "ax1.legend()\n",
        "\n",
        "mae = his_dict['mean_absolute_error']\n",
        "val_mae = his_dict['val_mean_absolute_error']\n",
        "\n",
        "ax2=fig.add_subplot(1,3,2)\n",
        "ax2.plot(epochs, mae, color ='blue', label='Train_mae')\n",
        "ax2.plot(epochs, val_mae, color ='orange', label='Val_mae')\n",
        "ax2.set_title('Mean Absolute Error')\n",
        "ax2.set_xlabel('epochs')\n",
        "ax2.set_ylabel('mean_absolute_error')\n",
        "ax2.legend()\n",
        "\n",
        "mse = his_dict['mean_squared_error']\n",
        "val_mse = his_dict['val_mean_squared_error']\n",
        "\n",
        "ax3=fig.add_subplot(1,3,3)\n",
        "ax3.plot(epochs, mse, color ='blue', label='Train_mse')\n",
        "ax3.plot(epochs, val_mse, color ='orange', label='Val_mse')\n",
        "ax3.set_title('Mean Squared Error')\n",
        "ax3.set_xlabel('epochs')\n",
        "ax3.set_ylabel('mean_squared_error')\n",
        "ax3.legend()"
      ],
      "metadata": {
        "id": "i9UIwEzjdBnv"
      },
      "execution_count": null,
      "outputs": []
    },
    {
      "cell_type": "code",
      "source": [
        "# 예측값과 실제값 산포도 시각화 (R-squared 포함)\n",
        "plt.figure(figsize=(8, 8))\n",
        "plt.scatter(y_test, y_pred, alpha=0.3, label='Data points')\n",
        "plt.plot([y_test.min(), y_test.max()], [y_test.min(), y_test.max()], 'r--', label='Ideal fit')\n",
        "plt.title(f'True vs Predicted Scatter Plot\\nR-squared: {r2:.3f}')\n",
        "plt.xlabel('True Values')\n",
        "plt.ylabel('Predicted Values')\n",
        "plt.legend()\n",
        "plt.show()"
      ],
      "metadata": {
        "id": "UnNB28b1dCpC"
      },
      "execution_count": null,
      "outputs": []
    },
    {
      "cell_type": "code",
      "source": [
        "pred= model.predict(x_test)\n",
        "\n",
        "y_pred = y_pred.reshape(-1)  # (n_samples,) 형태로 변환\n",
        "y_test = y_test.reshape(-1)  # (n_samples,) 형태로 변환\n",
        "\n",
        "# 3. 예측값과 실제값 비교하는 그래프 그리기\n",
        "plt.figure(figsize=(20, 6))\n",
        "plt.plot(y_test, label='Actual')\n",
        "plt.plot(y_pred, label='Predicted')\n",
        "plt.title('Comparison of Actual and Predicted Values')\n",
        "plt.xlabel('Sample')\n",
        "plt.ylabel('Value')\n",
        "plt.legend()\n",
        "plt.show()"
      ],
      "metadata": {
        "id": "B-Ijw8J4dEew"
      },
      "execution_count": null,
      "outputs": []
    }
  ]
}